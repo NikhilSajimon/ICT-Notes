{
  "nbformat": 4,
  "nbformat_minor": 0,
  "metadata": {
    "colab": {
      "provenance": [],
      "authorship_tag": "ABX9TyPcSBR/t6R5TiwGFFcM/Rnq",
      "include_colab_link": true
    },
    "kernelspec": {
      "name": "python3",
      "display_name": "Python 3"
    },
    "language_info": {
      "name": "python"
    }
  },
  "cells": [
    {
      "cell_type": "markdown",
      "metadata": {
        "id": "view-in-github",
        "colab_type": "text"
      },
      "source": [
        "<a href=\"https://colab.research.google.com/github/NikhilSajimon/ICT-Notes/blob/main/python_14082025.ipynb\" target=\"_parent\"><img src=\"https://colab.research.google.com/assets/colab-badge.svg\" alt=\"Open In Colab\"/></a>"
      ]
    },
    {
      "cell_type": "markdown",
      "source": [
        "##***P-test, T-test, Z-test, F-Distribution***"
      ],
      "metadata": {
        "id": "WgUZG27wJaq6"
      }
    },
    {
      "cell_type": "code",
      "source": [
        "# Z-Test\n",
        "# 1. State the null hypothesis\n",
        "# 2. State the alternate hypothesis\n",
        "# 3. Choose your significance level\n",
        "# 4. Calculate your Z-Test Statistic: Z = (×_mean - μ)/(σ/sqrt(n))\n",
        "# 5. Find p-value using Z-Table and Z-test statistic computed\n",
        "# 6. If p-value < α, then we fail to reject null hypothesis\n",
        "#    If p-value > α, then we accept null hypothesis\n",
        "# 7. There are one-tailed and two tailed-tests"
      ],
      "metadata": {
        "id": "QODxxY-jyng9"
      },
      "execution_count": null,
      "outputs": []
    },
    {
      "cell_type": "code",
      "execution_count": null,
      "metadata": {
        "colab": {
          "base_uri": "https://localhost:8080/"
        },
        "id": "LXn3ACcEySom",
        "outputId": "f07dd306-2534-481f-92c0-19ab45cbf710"
      },
      "outputs": [
        {
          "output_type": "stream",
          "name": "stdout",
          "text": [
            "sample mean is 50.150000000000006\n",
            "0.31622776601684993\n"
          ]
        }
      ],
      "source": [
        "sample = [50.8, 49.5, 50.2, 51, 49.7, 50.3, 49.8, 50.5, 49.6, 50.1]\n",
        "x_bar = sum(sample)/len(sample)\n",
        "print(f'sample mean is {x_bar}')\n",
        "M = 50\n",
        "std = 1.5\n",
        "z_score = (x_bar - M)/(std/(len(sample) ** 0.5))\n",
        "print(z_score)\n"
      ]
    },
    {
      "cell_type": "code",
      "source": [
        "def mean(lst):\n",
        "  return sum(lst) / len(lst)\n",
        "\n",
        "def stdeviation(lst):\n",
        "  mean_val = mean(lst)\n",
        "\n",
        "  xi_minus_mean_list = [xi - mean_val for xi in lst]\n",
        "  xi_minus_mean_squared_list = [num ** 2 for num in xi_minus_mean_list]\n",
        "  variance = sum(xi_minus_mean_squared_list) / (len(lst) - 1)\n",
        "  standard_deviation = variance ** 0.5\n",
        "\n",
        "  return standard_deviation\n",
        "\n",
        "stdeviation(sample)"
      ],
      "metadata": {
        "colab": {
          "base_uri": "https://localhost:8080/"
        },
        "id": "AQx4V4I59-Ez",
        "outputId": "84714bc2-0d99-4770-9d06-2101b45e0efe"
      },
      "execution_count": null,
      "outputs": [
        {
          "output_type": "execute_result",
          "data": {
            "text/plain": [
              "0.48425200051212935"
            ]
          },
          "metadata": {},
          "execution_count": 20
        }
      ]
    },
    {
      "cell_type": "code",
      "source": [
        "stdeviation([1,3,3,10,7,7,9,80])"
      ],
      "metadata": {
        "colab": {
          "base_uri": "https://localhost:8080/"
        },
        "id": "eWlwxgewBd4e",
        "outputId": "6e6b3b96-0747-4f0a-dd4d-71d15a3be28a"
      },
      "execution_count": null,
      "outputs": [
        {
          "output_type": "execute_result",
          "data": {
            "text/plain": [
              "24.743686063317245"
            ]
          },
          "metadata": {},
          "execution_count": 11
        }
      ]
    },
    {
      "cell_type": "code",
      "source": [
        "boys = [50,81,61,63,83,64,75,43]\n",
        "girls = [48,50,39,53,60,47,60,55,52,52,63,49]\n",
        "\n",
        "def t_test(x_list, y_list):\n",
        "\n",
        "  n1 = len(x_list)\n",
        "  n2 = len(y_list)\n",
        "  x_mean = mean(x_list)\n",
        "  y_mean = mean(y_list)\n",
        "  s_x = stdeviation(x_list)\n",
        "  s_y = stdeviation(y_list)\n",
        "  t = (x_mean - y_mean) / ((((s_x ** 2)/n1) + ((s_y ** 2)/n2)) ** 0.5)\n",
        "\n",
        "\n",
        "  print(x_mean)\n",
        "  print(y_mean)\n",
        "  print(s_x)\n",
        "  print(s_y)\n",
        "  print(f'T test statistic is {t}')\n",
        "\n",
        "t_test(boys, girls)\n",
        "\n",
        "\n",
        "# critical value - one-tailed: 1.734, critical value - two-tailed: 2.101"
      ],
      "metadata": {
        "colab": {
          "base_uri": "https://localhost:8080/"
        },
        "id": "TqiuLgUNT7-b",
        "outputId": "e9a9beb9-b991-4877-f24e-0a7eb1a9caff"
      },
      "execution_count": null,
      "outputs": [
        {
          "output_type": "stream",
          "name": "stdout",
          "text": [
            "65.0\n",
            "52.333333333333336\n",
            "13.275918047351754\n",
            "6.328945848682508\n",
            "T test statistic is 2.5148312293370516\n"
          ]
        }
      ]
    },
    {
      "cell_type": "code",
      "source": [],
      "metadata": {
        "id": "GpGOBd4TYKOL"
      },
      "execution_count": null,
      "outputs": []
    }
  ]
}