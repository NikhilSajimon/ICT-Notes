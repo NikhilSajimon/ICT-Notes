{
  "nbformat": 4,
  "nbformat_minor": 0,
  "metadata": {
    "colab": {
      "provenance": [],
      "authorship_tag": "ABX9TyPgpX5l/QgNqJAxG7cFh7+J",
      "include_colab_link": true
    },
    "kernelspec": {
      "name": "python3",
      "display_name": "Python 3"
    },
    "language_info": {
      "name": "python"
    }
  },
  "cells": [
    {
      "cell_type": "markdown",
      "metadata": {
        "id": "view-in-github",
        "colab_type": "text"
      },
      "source": [
        "<a href=\"https://colab.research.google.com/github/NikhilSajimon/ICT-Notes/blob/main/python_11082025.ipynb\" target=\"_parent\"><img src=\"https://colab.research.google.com/assets/colab-badge.svg\" alt=\"Open In Colab\"/></a>"
      ]
    },
    {
      "cell_type": "markdown",
      "source": [
        "###Coding Best Practices\n",
        "1. Readability - PEP8 Style\n",
        "2. Functions and DRY principle\n",
        "3. Error handling & exception and Validation\n",
        "4. Writing pythonic code\n",
        "5. Documentation and commenting"
      ],
      "metadata": {
        "id": "duYanKsuLzuL"
      }
    },
    {
      "cell_type": "code",
      "source": [
        "# SyntaxError"
      ],
      "metadata": {
        "id": "5FDUpnMQZ5tS"
      },
      "execution_count": null,
      "outputs": []
    },
    {
      "cell_type": "code",
      "source": [
        "def my_function() # <- Missing the colon at the end\n",
        "    print(\"Hello!\")"
      ],
      "metadata": {
        "colab": {
          "base_uri": "https://localhost:8080/",
          "height": 106
        },
        "id": "m4DugQP9v15R",
        "outputId": "fd7fa28c-9cad-4e68-98d0-c08134a97f41"
      },
      "execution_count": null,
      "outputs": [
        {
          "output_type": "error",
          "ename": "SyntaxError",
          "evalue": "expected ':' (ipython-input-1554485603.py, line 1)",
          "traceback": [
            "\u001b[0;36m  File \u001b[0;32m\"/tmp/ipython-input-1554485603.py\"\u001b[0;36m, line \u001b[0;32m1\u001b[0m\n\u001b[0;31m    def my_function() # <- Missing the colon at the end\u001b[0m\n\u001b[0m                      ^\u001b[0m\n\u001b[0;31mSyntaxError\u001b[0m\u001b[0;31m:\u001b[0m expected ':'\n"
          ]
        }
      ]
    },
    {
      "cell_type": "code",
      "source": [
        "# NameError"
      ],
      "metadata": {
        "id": "eylw1mmaaDTf"
      },
      "execution_count": null,
      "outputs": []
    },
    {
      "cell_type": "code",
      "source": [
        "name = \"Alice\"\n",
        "print(nane) # <- Typo in the variable name"
      ],
      "metadata": {
        "id": "wbYpIY6Wv3iW"
      },
      "execution_count": null,
      "outputs": []
    },
    {
      "cell_type": "code",
      "source": [
        "# TypeError"
      ],
      "metadata": {
        "id": "ABZ7rTHJaAaH"
      },
      "execution_count": null,
      "outputs": []
    },
    {
      "cell_type": "code",
      "source": [
        "age = 30\n",
        "message = \"Her age is: \" + age # <- Can't add a string and an integer"
      ],
      "metadata": {
        "colab": {
          "base_uri": "https://localhost:8080/",
          "height": 158
        },
        "id": "h1JyYWmrv4KB",
        "outputId": "80cc1f4e-c98c-48b5-dd4a-d31007534473"
      },
      "execution_count": null,
      "outputs": [
        {
          "output_type": "error",
          "ename": "TypeError",
          "evalue": "can only concatenate str (not \"int\") to str",
          "traceback": [
            "\u001b[0;31m---------------------------------------------------------------------------\u001b[0m",
            "\u001b[0;31mTypeError\u001b[0m                                 Traceback (most recent call last)",
            "\u001b[0;32m/tmp/ipython-input-3420548135.py\u001b[0m in \u001b[0;36m<cell line: 0>\u001b[0;34m()\u001b[0m\n\u001b[1;32m      1\u001b[0m \u001b[0mage\u001b[0m \u001b[0;34m=\u001b[0m \u001b[0;36m30\u001b[0m\u001b[0;34m\u001b[0m\u001b[0;34m\u001b[0m\u001b[0m\n\u001b[0;32m----> 2\u001b[0;31m \u001b[0mmessage\u001b[0m \u001b[0;34m=\u001b[0m \u001b[0;34m\"Her age is: \"\u001b[0m \u001b[0;34m+\u001b[0m \u001b[0mage\u001b[0m \u001b[0;31m# <- Can't add a string and an integer\u001b[0m\u001b[0;34m\u001b[0m\u001b[0;34m\u001b[0m\u001b[0m\n\u001b[0m",
            "\u001b[0;31mTypeError\u001b[0m: can only concatenate str (not \"int\") to str"
          ]
        }
      ]
    },
    {
      "cell_type": "code",
      "source": [
        "# IndexError"
      ],
      "metadata": {
        "id": "Ef1c3hrTaIAv"
      },
      "execution_count": null,
      "outputs": []
    },
    {
      "cell_type": "code",
      "source": [
        "my_list = [\"apple\", \"banana\", \"cherry\"] # Indexes are 0, 1, 2\n",
        "print(my_list[3]) # <- Index 3 does not exist"
      ],
      "metadata": {
        "id": "ASpA5M4xv4nJ"
      },
      "execution_count": null,
      "outputs": []
    },
    {
      "cell_type": "code",
      "source": [
        "# KeyError"
      ],
      "metadata": {
        "id": "hUQ-JFJ8aKEN"
      },
      "execution_count": null,
      "outputs": []
    },
    {
      "cell_type": "code",
      "source": [
        "student = {\"name\": \"Bob\", \"grade\": 10}\n",
        "print(student[\"age\"]) # <- The key \"age\" does not exist"
      ],
      "metadata": {
        "id": "A0wzEjxyv5BA"
      },
      "execution_count": null,
      "outputs": []
    },
    {
      "cell_type": "code",
      "source": [
        "# ValueError"
      ],
      "metadata": {
        "id": "PTlcvOTXaMrV"
      },
      "execution_count": null,
      "outputs": []
    },
    {
      "cell_type": "code",
      "source": [
        "number_string = \"twenty\"\n",
        "my_number = int(number_string) # <- Can't convert this string to a number"
      ],
      "metadata": {
        "id": "OxwzevBTv5ZB"
      },
      "execution_count": null,
      "outputs": []
    },
    {
      "cell_type": "code",
      "source": [
        "def process_deposit(amount):\n",
        "    # We validate the input amount based on our rule.\n",
        "    if amount <= 0:\n",
        "        # If the rule is broken, we manually raise a ValueError.\n",
        "        raise ValueError(\"Deposit amount must be positive.\")\n",
        "\n",
        "    print(f\"Successfully deposited ${amount}.\")\n",
        "\n",
        "# Now, let's test it.\n",
        "try:\n",
        "    # process_deposit(100)  # This will work.\n",
        "    process_deposit(-50)  # This will trigger our exception.\n",
        "except ValueError as e:\n",
        "    # We catch the error that we manually raised.\n",
        "    print(f\"Error: {e}\")"
      ],
      "metadata": {
        "id": "eIjwXDoiu-mH"
      },
      "execution_count": null,
      "outputs": []
    },
    {
      "cell_type": "code",
      "source": [
        "# First, define our custom exception.\n",
        "class InsufficientFundsError(Exception):\n",
        "    pass\n",
        "\n",
        "# Now, use it in our function.\n",
        "def withdraw(balance, amount):\n",
        "    if amount > balance:\n",
        "        # Raise our specific, custom error.\n",
        "        raise InsufficientFundsError(f\"Cannot withdraw ${amount}. Insufficient funds.\")\n",
        "\n",
        "    new_balance = balance - amount\n",
        "    print(f\"Withdrawal successful. New balance: ${new_balance}\")\n",
        "    return new_balance\n",
        "\n",
        "# Let's test it.\n",
        "my_balance = 500\n",
        "try:\n",
        "    withdraw(my_balance, 200)  # This will work.\n",
        "    withdraw(my_balance, 700)  # This will fail with our custom error.\n",
        "except InsufficientFundsError as e:\n",
        "    # We can now specifically catch OUR error.\n",
        "    print(f\"Transaction Failed: {e}\")"
      ],
      "metadata": {
        "id": "sEhV-I9WvCtR"
      },
      "execution_count": null,
      "outputs": []
    },
    {
      "cell_type": "code",
      "source": [],
      "metadata": {
        "id": "_0Tn-8DLxMAk"
      },
      "execution_count": null,
      "outputs": []
    },
    {
      "cell_type": "code",
      "source": [
        "def check_voting_age(age):\n",
        "    # Your code here\n",
        "    pass\n",
        "\n",
        "# --- Test Cases ---\n",
        "print(f\"Testing with age 25: {check_voting_age(25)}\")\n",
        "print(f\"Testing with age 16: {check_voting_age(16)}\")\n"
      ],
      "metadata": {
        "id": "aWDN6NeAuF9o",
        "colab": {
          "base_uri": "https://localhost:8080/"
        },
        "outputId": "de2727f4-0751-43ca-83d2-81ff141fb6ff"
      },
      "execution_count": null,
      "outputs": [
        {
          "output_type": "stream",
          "name": "stdout",
          "text": [
            "Testing with age 25: None\n",
            "Testing with age 16: None\n"
          ]
        }
      ]
    },
    {
      "cell_type": "code",
      "source": [
        "def  add_two_numbers(a, b):\n",
        "  return a + b\n",
        "\n",
        "\n",
        "def subtract_two_numbers(a, b):\n",
        "  return a - b\n",
        "\n",
        "\n",
        "def multiply_two_numbers(a, b):\n",
        "  return a*b\n",
        "\n",
        "\n",
        "def divide_two_numbers(a, b):\n",
        "  if b!=0:\n",
        "    return a/b\n",
        "  else:\n",
        "    return None\n",
        "\n",
        "\n",
        "result1 = add_two_numbers(5,3)\n",
        "result2 = subtract_two_numbers(10,4)\n",
        "result3 = multiply_two_numbers(2,8)\n",
        "result4 = divide_two_numbers(10,2)\n",
        "\n",
        "print(\"Addition result:\", result1)\n",
        "print(\"Subtraction result:\" , result2)\n",
        "print(\"Multiplication result:\", result3)\n",
        "print(\"Division result:\", result4)"
      ],
      "metadata": {
        "colab": {
          "base_uri": "https://localhost:8080/"
        },
        "id": "BvUqikad2eb9",
        "outputId": "77ab447d-5305-4d07-bcc3-975e263ab425"
      },
      "execution_count": null,
      "outputs": [
        {
          "output_type": "stream",
          "name": "stdout",
          "text": [
            "Addition result: 8\n",
            "Subtraction result: 6\n",
            "Multiplication result: 16\n",
            "Division result: 5.0\n"
          ]
        }
      ]
    },
    {
      "cell_type": "code",
      "source": [
        "def check_even_odd(num):\n",
        "    # This single line replaces the entire if/else block.\n",
        "    return \"Even\" if num % 2 == 0 else \"Odd\"\n",
        "\n",
        "\n",
        "check_even_odd(9)"
      ],
      "metadata": {
        "colab": {
          "base_uri": "https://localhost:8080/",
          "height": 36
        },
        "id": "BqMJvLWV36fo",
        "outputId": "a062070c-5ff6-4e00-880c-25f60ae80174"
      },
      "execution_count": null,
      "outputs": [
        {
          "output_type": "execute_result",
          "data": {
            "text/plain": [
              "'Odd'"
            ],
            "application/vnd.google.colaboratory.intrinsic+json": {
              "type": "string"
            }
          },
          "metadata": {},
          "execution_count": 6
        }
      ]
    },
    {
      "cell_type": "code",
      "source": [
        "def print_rectangle_area(width, height):\n",
        "    area = width * height\n",
        "    print(f\"Area of rectangle: {area}\")\n",
        "\n",
        "\n",
        "print_rectangle_area(5, 10)\n",
        "print_rectangle_area(3, 8)\n",
        "print_rectangle_area(6, 4)"
      ],
      "metadata": {
        "colab": {
          "base_uri": "https://localhost:8080/"
        },
        "id": "JezRhq9p3-sB",
        "outputId": "0fc7da43-3846-402f-fce2-a6caa7cda028"
      },
      "execution_count": null,
      "outputs": [
        {
          "output_type": "stream",
          "name": "stdout",
          "text": [
            "Area of rectangle: 50\n",
            "Area of rectangle: 24\n",
            "Area of rectangle: 24\n"
          ]
        }
      ]
    }
  ]
}