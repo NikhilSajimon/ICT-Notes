{
  "nbformat": 4,
  "nbformat_minor": 0,
  "metadata": {
    "colab": {
      "provenance": [],
      "authorship_tag": "ABX9TyOaGNv2XEAg15OoQKea5zvY",
      "include_colab_link": true
    },
    "kernelspec": {
      "name": "python3",
      "display_name": "Python 3"
    },
    "language_info": {
      "name": "python"
    }
  },
  "cells": [
    {
      "cell_type": "markdown",
      "metadata": {
        "id": "view-in-github",
        "colab_type": "text"
      },
      "source": [
        "<a href=\"https://colab.research.google.com/github/NikhilSajimon/ICT-Notes/blob/main/python_07082025.ipynb\" target=\"_parent\"><img src=\"https://colab.research.google.com/assets/colab-badge.svg\" alt=\"Open In Colab\"/></a>"
      ]
    },
    {
      "cell_type": "markdown",
      "source": [
        "##Iterative Statements\n"
      ],
      "metadata": {
        "id": "6Sp1ghI0jeK4"
      }
    },
    {
      "cell_type": "code",
      "execution_count": null,
      "metadata": {
        "id": "Ix7MiphJi5LD"
      },
      "outputs": [],
      "source": [
        "for i in range(10):\n",
        "  print(i)\n",
        "\n",
        "for num in range(100, 400, 2):\n",
        "  print(num)"
      ]
    },
    {
      "cell_type": "code",
      "source": [
        "word = \"Remote Internship\"\n",
        "for char in word:\n",
        "  print(char)"
      ],
      "metadata": {
        "id": "LXoDU5ivlXIX"
      },
      "execution_count": null,
      "outputs": []
    },
    {
      "cell_type": "code",
      "source": [
        "alphabets = ['a','b','c','d','e','f','g','h','i','j','k','l','m']\n",
        "for alph in alphabets:\n",
        "  print(alph)"
      ],
      "metadata": {
        "id": "gcNonaqOl9Bm"
      },
      "execution_count": null,
      "outputs": []
    },
    {
      "cell_type": "code",
      "source": [
        "for i in range(len(alphabets)):\n",
        "  if i % 2 == 1:\n",
        "    print(alphabets[i])\n",
        "  else:\n",
        "    print(0)"
      ],
      "metadata": {
        "colab": {
          "base_uri": "https://localhost:8080/"
        },
        "id": "xNyy-aeTmceT",
        "outputId": "d0891d57-8bfc-468b-d8ca-929d0f208633"
      },
      "execution_count": null,
      "outputs": [
        {
          "output_type": "stream",
          "name": "stdout",
          "text": [
            "0\n",
            "b\n",
            "0\n",
            "d\n",
            "0\n",
            "f\n",
            "0\n",
            "h\n",
            "0\n",
            "j\n",
            "0\n",
            "l\n",
            "0\n"
          ]
        }
      ]
    },
    {
      "cell_type": "code",
      "source": [
        "my_dict = { 'name': 'Sreesanth', 'age': 21, 'course': 'DSA', 'Place': 'Pathanamthitta', 'food': 'Idiyappam',}\n",
        "my_dict.keys()"
      ],
      "metadata": {
        "colab": {
          "base_uri": "https://localhost:8080/"
        },
        "id": "eDlyoIh1noDi",
        "outputId": "2dc056b2-bfee-4bff-968c-808e1dcdffaf"
      },
      "execution_count": null,
      "outputs": [
        {
          "output_type": "execute_result",
          "data": {
            "text/plain": [
              "dict_keys(['name', 'age', 'course', 'Place', 'food'])"
            ]
          },
          "metadata": {},
          "execution_count": 23
        }
      ]
    },
    {
      "cell_type": "code",
      "source": [
        "my_dict.values()"
      ],
      "metadata": {
        "colab": {
          "base_uri": "https://localhost:8080/"
        },
        "id": "vBng8amtqslD",
        "outputId": "3487e579-302b-4868-9b86-a7925e237ee4"
      },
      "execution_count": null,
      "outputs": [
        {
          "output_type": "execute_result",
          "data": {
            "text/plain": [
              "dict_values(['Sreesanth', 21, 'DSA', 'Pathanamthitta', 'Idiyappam'])"
            ]
          },
          "metadata": {},
          "execution_count": 17
        }
      ]
    },
    {
      "cell_type": "code",
      "source": [
        "my_dict.items()"
      ],
      "metadata": {
        "colab": {
          "base_uri": "https://localhost:8080/"
        },
        "id": "Mhas2enBq2c8",
        "outputId": "c245f331-f712-4bf5-a6d2-764a2be04df7"
      },
      "execution_count": null,
      "outputs": [
        {
          "output_type": "execute_result",
          "data": {
            "text/plain": [
              "dict_items([('name', 'Sreesanth'), ('age', 21), ('course', 'DSA'), ('Place', 'Pathanamthitta'), ('food', 'Idiyappam')])"
            ]
          },
          "metadata": {},
          "execution_count": 18
        }
      ]
    },
    {
      "cell_type": "code",
      "source": [
        "for k,v in my_dict.items():\n",
        "  print(f'my {k} is {v}.')"
      ],
      "metadata": {
        "colab": {
          "base_uri": "https://localhost:8080/"
        },
        "id": "akFPKihaq7iZ",
        "outputId": "0fa457f6-eea6-4ad8-f074-f744f3364163"
      },
      "execution_count": null,
      "outputs": [
        {
          "output_type": "stream",
          "name": "stdout",
          "text": [
            "my name is Sreesanth.\n",
            "my age is 21.\n",
            "my course is DSA.\n",
            "my Place is Pathanamthitta.\n",
            "my food is Idiyappam.\n"
          ]
        }
      ]
    },
    {
      "cell_type": "code",
      "source": [
        "inventory = {'pen': 10, 'book_small': 40, 'book_big' : 60,'pencil': 5, 'scale': 10, 'eraser': 5, 'sharpner': 5 }\n",
        "budget = int(input(\"Enter store credit balance: \"))\n",
        "\n",
        "total = 0\n",
        "cart = []\n",
        "for item, price in inventory.items():\n",
        "  if price < budget and total + price <= budget:\n",
        "    total += price\n",
        "    cart.append(item)\n",
        "print(cart)\n"
      ],
      "metadata": {
        "colab": {
          "base_uri": "https://localhost:8080/"
        },
        "id": "OlrQ7RaXr41t",
        "outputId": "299b2bb9-8230-4813-cff7-26ef61c585cf"
      },
      "execution_count": null,
      "outputs": [
        {
          "output_type": "stream",
          "name": "stdout",
          "text": [
            "Enter store credit balance: 100\n",
            "['pen', 'book_small', 'pencil', 'scale', 'eraser', 'sharpner']\n"
          ]
        }
      ]
    },
    {
      "cell_type": "code",
      "source": [
        "for number in range(1,101):\n",
        "  if number % 3 == 0 and number % 5 == 0:\n",
        "    print(number)"
      ],
      "metadata": {
        "colab": {
          "base_uri": "https://localhost:8080/"
        },
        "id": "Jnk1iBmv5Uxo",
        "outputId": "472ee143-ffff-41da-9c75-82debc9559ba"
      },
      "execution_count": null,
      "outputs": [
        {
          "output_type": "stream",
          "name": "stdout",
          "text": [
            "15\n",
            "30\n",
            "45\n",
            "60\n",
            "75\n",
            "90\n"
          ]
        }
      ]
    },
    {
      "cell_type": "code",
      "source": [
        "a = 0\n",
        "while a < 10:\n",
        "  print(a)\n",
        "  a += 2\n",
        "else:\n",
        "  print('You crossed the limit')"
      ],
      "metadata": {
        "colab": {
          "base_uri": "https://localhost:8080/"
        },
        "id": "M9gTneZ__xPN",
        "outputId": "5989e124-7f33-49fe-b8a0-5dbe37833104"
      },
      "execution_count": null,
      "outputs": [
        {
          "output_type": "stream",
          "name": "stdout",
          "text": [
            "0\n",
            "2\n",
            "4\n",
            "6\n",
            "8\n",
            "You crossed the limit\n"
          ]
        }
      ]
    },
    {
      "cell_type": "code",
      "source": [
        "balance = int(input(\"Enter balance: \"))\n",
        "\n",
        "while balance > 0:\n",
        "  print(f\"Balance is {balance}\")\n",
        "  balance -= 10\n",
        "\n",
        "else:\n",
        "  print(\"Wallet empty\")\n",
        "\n"
      ],
      "metadata": {
        "colab": {
          "base_uri": "https://localhost:8080/"
        },
        "id": "AMv18p-cBgIM",
        "outputId": "fbf7bd2d-c7ed-49be-f482-2df993e484e7"
      },
      "execution_count": null,
      "outputs": [
        {
          "output_type": "stream",
          "name": "stdout",
          "text": [
            "Enter balance: 115\n",
            "Balance is 115\n",
            "Balance is 105\n",
            "Balance is 95\n",
            "Balance is 85\n",
            "Balance is 75\n",
            "Balance is 65\n",
            "Balance is 55\n",
            "Balance is 45\n",
            "Balance is 35\n",
            "Balance is 25\n",
            "Balance is 15\n",
            "Balance is 5\n",
            "Wallet empty\n"
          ]
        }
      ]
    },
    {
      "cell_type": "code",
      "source": [
        "for i in range(100,0,-10):\n",
        "  print(i)"
      ],
      "metadata": {
        "colab": {
          "base_uri": "https://localhost:8080/"
        },
        "id": "L99FxGsdDX35",
        "outputId": "a5f64d91-73db-43c6-d4c6-ab8a861863fd"
      },
      "execution_count": null,
      "outputs": [
        {
          "output_type": "stream",
          "name": "stdout",
          "text": [
            "100\n",
            "90\n",
            "80\n",
            "70\n",
            "60\n",
            "50\n",
            "40\n",
            "30\n",
            "20\n",
            "10\n"
          ]
        }
      ]
    },
    {
      "cell_type": "code",
      "source": [
        "secret = 15\n",
        "\n",
        "print(\"Enter a number: \")\n",
        "guess = int(input())\n",
        "while guess != secret:\n",
        "  print(\"Wrong guess try again \")\n",
        "  guess = int(input())\n",
        "else:\n",
        "    print(\"Yaaayyyy: You guessed it right.\")"
      ],
      "metadata": {
        "colab": {
          "base_uri": "https://localhost:8080/",
          "height": 373
        },
        "id": "1uXRe2BSEBUH",
        "outputId": "d27472e2-4dd9-4698-afc3-a18e03a397d0"
      },
      "execution_count": null,
      "outputs": [
        {
          "output_type": "stream",
          "name": "stdout",
          "text": [
            "Enter a number: \n"
          ]
        },
        {
          "output_type": "error",
          "ename": "KeyboardInterrupt",
          "evalue": "Interrupted by user",
          "traceback": [
            "\u001b[0;31m---------------------------------------------------------------------------\u001b[0m",
            "\u001b[0;31mKeyboardInterrupt\u001b[0m                         Traceback (most recent call last)",
            "\u001b[0;32m/tmp/ipython-input-4100818112.py\u001b[0m in \u001b[0;36m<cell line: 0>\u001b[0;34m()\u001b[0m\n\u001b[1;32m      2\u001b[0m \u001b[0;34m\u001b[0m\u001b[0m\n\u001b[1;32m      3\u001b[0m \u001b[0mprint\u001b[0m\u001b[0;34m(\u001b[0m\u001b[0;34m\"Enter a number: \"\u001b[0m\u001b[0;34m)\u001b[0m\u001b[0;34m\u001b[0m\u001b[0;34m\u001b[0m\u001b[0m\n\u001b[0;32m----> 4\u001b[0;31m \u001b[0mguess\u001b[0m \u001b[0;34m=\u001b[0m \u001b[0mint\u001b[0m\u001b[0;34m(\u001b[0m\u001b[0minput\u001b[0m\u001b[0;34m(\u001b[0m\u001b[0;34m)\u001b[0m\u001b[0;34m)\u001b[0m\u001b[0;34m\u001b[0m\u001b[0;34m\u001b[0m\u001b[0m\n\u001b[0m\u001b[1;32m      5\u001b[0m \u001b[0;32mwhile\u001b[0m \u001b[0mguess\u001b[0m \u001b[0;34m!=\u001b[0m \u001b[0msecret\u001b[0m\u001b[0;34m:\u001b[0m\u001b[0;34m\u001b[0m\u001b[0;34m\u001b[0m\u001b[0m\n\u001b[1;32m      6\u001b[0m   \u001b[0mprint\u001b[0m\u001b[0;34m(\u001b[0m\u001b[0;34m\"Wrong guess try again \"\u001b[0m\u001b[0;34m)\u001b[0m\u001b[0;34m\u001b[0m\u001b[0;34m\u001b[0m\u001b[0m\n",
            "\u001b[0;32m/usr/local/lib/python3.11/dist-packages/ipykernel/kernelbase.py\u001b[0m in \u001b[0;36mraw_input\u001b[0;34m(self, prompt)\u001b[0m\n\u001b[1;32m   1175\u001b[0m                 \u001b[0;34m\"raw_input was called, but this frontend does not support input requests.\"\u001b[0m\u001b[0;34m\u001b[0m\u001b[0;34m\u001b[0m\u001b[0m\n\u001b[1;32m   1176\u001b[0m             )\n\u001b[0;32m-> 1177\u001b[0;31m         return self._input_request(\n\u001b[0m\u001b[1;32m   1178\u001b[0m             \u001b[0mstr\u001b[0m\u001b[0;34m(\u001b[0m\u001b[0mprompt\u001b[0m\u001b[0;34m)\u001b[0m\u001b[0;34m,\u001b[0m\u001b[0;34m\u001b[0m\u001b[0;34m\u001b[0m\u001b[0m\n\u001b[1;32m   1179\u001b[0m             \u001b[0mself\u001b[0m\u001b[0;34m.\u001b[0m\u001b[0m_parent_ident\u001b[0m\u001b[0;34m[\u001b[0m\u001b[0;34m\"shell\"\u001b[0m\u001b[0;34m]\u001b[0m\u001b[0;34m,\u001b[0m\u001b[0;34m\u001b[0m\u001b[0;34m\u001b[0m\u001b[0m\n",
            "\u001b[0;32m/usr/local/lib/python3.11/dist-packages/ipykernel/kernelbase.py\u001b[0m in \u001b[0;36m_input_request\u001b[0;34m(self, prompt, ident, parent, password)\u001b[0m\n\u001b[1;32m   1217\u001b[0m             \u001b[0;32mexcept\u001b[0m \u001b[0mKeyboardInterrupt\u001b[0m\u001b[0;34m:\u001b[0m\u001b[0;34m\u001b[0m\u001b[0;34m\u001b[0m\u001b[0m\n\u001b[1;32m   1218\u001b[0m                 \u001b[0;31m# re-raise KeyboardInterrupt, to truncate traceback\u001b[0m\u001b[0;34m\u001b[0m\u001b[0;34m\u001b[0m\u001b[0m\n\u001b[0;32m-> 1219\u001b[0;31m                 \u001b[0;32mraise\u001b[0m \u001b[0mKeyboardInterrupt\u001b[0m\u001b[0;34m(\u001b[0m\u001b[0;34m\"Interrupted by user\"\u001b[0m\u001b[0;34m)\u001b[0m \u001b[0;32mfrom\u001b[0m \u001b[0;32mNone\u001b[0m\u001b[0;34m\u001b[0m\u001b[0;34m\u001b[0m\u001b[0m\n\u001b[0m\u001b[1;32m   1220\u001b[0m             \u001b[0;32mexcept\u001b[0m \u001b[0mException\u001b[0m\u001b[0;34m:\u001b[0m\u001b[0;34m\u001b[0m\u001b[0;34m\u001b[0m\u001b[0m\n\u001b[1;32m   1221\u001b[0m                 \u001b[0mself\u001b[0m\u001b[0;34m.\u001b[0m\u001b[0mlog\u001b[0m\u001b[0;34m.\u001b[0m\u001b[0mwarning\u001b[0m\u001b[0;34m(\u001b[0m\u001b[0;34m\"Invalid Message:\"\u001b[0m\u001b[0;34m,\u001b[0m \u001b[0mexc_info\u001b[0m\u001b[0;34m=\u001b[0m\u001b[0;32mTrue\u001b[0m\u001b[0;34m)\u001b[0m\u001b[0;34m\u001b[0m\u001b[0;34m\u001b[0m\u001b[0m\n",
            "\u001b[0;31mKeyboardInterrupt\u001b[0m: Interrupted by user"
          ]
        }
      ]
    },
    {
      "cell_type": "code",
      "source": [
        "import random\n",
        "secret = random.randint(1,5)\n",
        "\n",
        "print(\"Enter a number: \")\n",
        "guess = int(input())\n",
        "while guess != secret:\n",
        "  if guess < secret:\n",
        "    print(\"Guess high\")\n",
        "  else:\n",
        "    print(\"Guess low\")\n",
        "  guess = int(input())\n",
        "else:\n",
        "    print(\"Yaaayyyy: You guessed it right.\")"
      ],
      "metadata": {
        "colab": {
          "base_uri": "https://localhost:8080/"
        },
        "id": "wvgMeyolJBn_",
        "outputId": "1d2bcbe3-90ca-4e1a-b314-d82d7d77a246"
      },
      "execution_count": null,
      "outputs": [
        {
          "output_type": "stream",
          "name": "stdout",
          "text": [
            "Enter a number: \n",
            "3\n",
            "Guess low\n",
            "1\n",
            "Guess high\n",
            "2\n",
            "Yaaayyyy: You guessed it right.\n"
          ]
        }
      ]
    },
    {
      "cell_type": "code",
      "source": [
        "password = 122333\n",
        "\n",
        "tries = 1\n",
        "\n",
        "while tries <= 3:\n",
        "  entered = int(input(\"Enter password: \"))\n",
        "  if entered == password:\n",
        "    print(\"Correct\")\n",
        "    break\n",
        "  else:\n",
        "    tries += 1\n",
        "    if tries > 3:\n",
        "      print(\"Wrong password!\")\n",
        "    else:\n",
        "      print(\"Wrong password! Try Again\")\n",
        "else:\n",
        "  print('Ran out of attempts!!!')\n"
      ],
      "metadata": {
        "colab": {
          "base_uri": "https://localhost:8080/"
        },
        "id": "omF_Oe-7LNwO",
        "outputId": "7018db6c-19a1-4efe-cfce-1d853d19386d"
      },
      "execution_count": null,
      "outputs": [
        {
          "output_type": "stream",
          "name": "stdout",
          "text": [
            "Enter password: 122333\n",
            "Correct\n"
          ]
        }
      ]
    },
    {
      "cell_type": "markdown",
      "source": [
        "#Practice Activity"
      ],
      "metadata": {
        "id": "fQa6q7QDQzqL"
      }
    },
    {
      "cell_type": "code",
      "source": [
        "ratings = {'The Shawshank Redemption': 9.3, 'The Godfather': 9.2, 'Inception': 8.8, 'The Last Airbender':4.0,\n",
        "           'Fant4stic': 4.3, 'House of The Dead': 2.0, 'Catwoman': 3.4, 'The Human Centipede' : 6.0,\n",
        "           'Whiplash': 8.0,'Gigli':2.6, 'Saving Christmas': 1.3, 'Schindler\\'s List': 9.0,'Parasite': 8.5,\n",
        "           'The Lord of the Rings: The Return of the King':8.9, 'Forrest Gump' : 8.8, 'Disaster Movie': 1.9, 'From Justin to Kelly' : 2.1,\n",
        "           'Mad Max: Fury Road' : 8.1, 'Pulp Fiction' : 8.9}\n",
        "print(ratings.items())"
      ],
      "metadata": {
        "id": "OezUsDV8SoV5",
        "colab": {
          "base_uri": "https://localhost:8080/"
        },
        "outputId": "dc4c0f7c-2989-450c-94dd-b180c15a5be5"
      },
      "execution_count": null,
      "outputs": [
        {
          "output_type": "stream",
          "name": "stdout",
          "text": [
            "dict_items([('The Shawshank Redemption', 9.3), ('The Godfather', 9.2), ('Inception', 8.8), ('The Last Airbender', 4.0), ('Fant4stic', 4.3), ('House of The Dead', 2.0), ('Catwoman', 3.4), ('The Human Centipede', 6.0), ('Whiplash', 8.0), ('Gigli', 2.6), ('Saving Christmas', 1.3), (\"Schindler's List\", 9.0), ('Parasite', 8.5), ('The Lord of the Rings: The Return of the King', 8.9), ('Forrest Gump', 8.8), ('Disaster Movie', 1.9), ('From Justin to Kelly', 2.1), ('Mad Max: Fury Road', 8.1), ('Pulp Fiction', 8.9)])\n"
          ]
        }
      ]
    },
    {
      "cell_type": "code",
      "source": [
        "ratings['The Human Centipede'] = 8.0\n",
        "ratings['From Justin to Kelly'] = 3.5\n",
        "print(ratings)"
      ],
      "metadata": {
        "colab": {
          "base_uri": "https://localhost:8080/"
        },
        "id": "sr_f1IVHKuak",
        "outputId": "7ec70a5f-b7b9-452f-8e6b-3accf1633d3a"
      },
      "execution_count": null,
      "outputs": [
        {
          "output_type": "stream",
          "name": "stdout",
          "text": [
            "{'The Shawshank Redemption': 9.3, 'The Godfather': 9.2, 'Inception': 8.8, 'The Last Airbender': 4.0, 'Fant4stic': 4.3, 'House of The Dead': 2.0, 'Catwoman': 3.4, 'The Human Centipede': 8.0, 'Whiplash': 8.0, 'Gigli': 2.6, 'Saving Christmas': 1.3, \"Schindler's List\": 9.0, 'Parasite': 8.5, 'The Lord of the Rings: The Return of the King': 8.9, 'Forrest Gump': 8.8, 'Disaster Movie': 1.9, 'From Justin to Kelly': 3.5, 'Mad Max: Fury Road': 8.1, 'Pulp Fiction': 8.9}\n"
          ]
        }
      ]
    },
    {
      "cell_type": "code",
      "source": [
        "ratings['Avatar'] = 7.9\n",
        "ratings['The Emoji Movie'] =3.4\n",
        "print(ratings)"
      ],
      "metadata": {
        "colab": {
          "base_uri": "https://localhost:8080/"
        },
        "id": "W31lh5yDLixo",
        "outputId": "af1ac1db-d516-4d9a-e693-39bd136fc17c"
      },
      "execution_count": null,
      "outputs": [
        {
          "output_type": "stream",
          "name": "stdout",
          "text": [
            "{'The Shawshank Redemption': 9.3, 'The Godfather': 9.2, 'Inception': 8.8, 'The Last Airbender': 4.0, 'Fant4stic': 4.3, 'House of The Dead': 2.0, 'Catwoman': 3.4, 'The Human Centipede': 8.0, 'Whiplash': 8.0, 'Gigli': 2.6, 'Saving Christmas': 1.3, \"Schindler's List\": 9.0, 'Parasite': 8.5, 'The Lord of the Rings: The Return of the King': 8.9, 'Forrest Gump': 8.8, 'Disaster Movie': 1.9, 'From Justin to Kelly': 3.5, 'Mad Max: Fury Road': 8.1, 'Pulp Fiction': 8.9, 'Avatar': 7.9, 'The Emoji Movie': 3.4}\n"
          ]
        }
      ]
    },
    {
      "cell_type": "code",
      "source": [
        "highest_rating = 0\n",
        "highest_rated_movie =''\n",
        "for movie, rating in ratings.items():\n",
        "  if rating > highest_rating:\n",
        "    highest_rating  = rating\n",
        "    highest_rated_movie = movie\n",
        "print(highest_rated_movie, highest_rating)"
      ],
      "metadata": {
        "colab": {
          "base_uri": "https://localhost:8080/"
        },
        "id": "l20w_WjQLiQy",
        "outputId": "17c3013c-5926-4045-f2fc-06fc7dc04ba2"
      },
      "execution_count": null,
      "outputs": [
        {
          "output_type": "stream",
          "name": "stdout",
          "text": [
            "The Shawshank Redemption 9.3\n"
          ]
        }
      ]
    },
    {
      "cell_type": "code",
      "source": [
        "for movie, rating in list(ratings.items()):\n",
        "  if rating < 5.0:\n",
        "    ratings.pop(movie)\n",
        "print(ratings)"
      ],
      "metadata": {
        "colab": {
          "base_uri": "https://localhost:8080/"
        },
        "id": "05-4CD9ZLIBZ",
        "outputId": "cfed6a67-32b0-42ec-be0e-03b591d4527c"
      },
      "execution_count": null,
      "outputs": [
        {
          "output_type": "stream",
          "name": "stdout",
          "text": [
            "{'The Shawshank Redemption': 9.3, 'The Godfather': 9.2, 'Inception': 8.8, 'The Human Centipede': 8.0, 'Whiplash': 8.0, \"Schindler's List\": 9.0, 'Parasite': 8.5, 'The Lord of the Rings: The Return of the King': 8.9, 'Forrest Gump': 8.8, 'Mad Max: Fury Road': 8.1, 'Pulp Fiction': 8.9, 'Avatar': 7.9}\n"
          ]
        }
      ]
    }
  ]
}