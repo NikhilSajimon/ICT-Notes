{
  "nbformat": 4,
  "nbformat_minor": 0,
  "metadata": {
    "colab": {
      "provenance": [],
      "authorship_tag": "ABX9TyO3G1dxb4FVfrg2Rzx3hcH8",
      "include_colab_link": true
    },
    "kernelspec": {
      "name": "python3",
      "display_name": "Python 3"
    },
    "language_info": {
      "name": "python"
    }
  },
  "cells": [
    {
      "cell_type": "markdown",
      "metadata": {
        "id": "view-in-github",
        "colab_type": "text"
      },
      "source": [
        "<a href=\"https://colab.research.google.com/github/NikhilSajimon/ICT-Notes/blob/main/python_04082025.ipynb\" target=\"_parent\"><img src=\"https://colab.research.google.com/assets/colab-badge.svg\" alt=\"Open In Colab\"/></a>"
      ]
    },
    {
      "cell_type": "markdown",
      "source": [
        "# Data Types\n",
        "##Numeric\n",
        "int\\\n",
        "float\\\n",
        "comlpex\n",
        "##String\n",
        "str\n",
        "##Sequence\n",
        "list\\\n",
        "tuple\\\n",
        "range\n",
        "##Mapping type\n",
        "dictionary\n",
        "###Boolean\n",
        "###None\n",
        "\n",
        "\n",
        "\n",
        "\n",
        "\n"
      ],
      "metadata": {
        "id": "4z7ty7wGOt6a"
      }
    },
    {
      "cell_type": "code",
      "execution_count": null,
      "metadata": {
        "colab": {
          "base_uri": "https://localhost:8080/"
        },
        "id": "9-7xoN_nKmQ0",
        "outputId": "a4b39cfa-3d53-4022-cf96-38443b189cd0"
      },
      "outputs": [
        {
          "output_type": "stream",
          "name": "stdout",
          "text": [
            "42.0\n"
          ]
        }
      ],
      "source": [
        "age = 42.\n",
        "print(age)"
      ]
    },
    {
      "cell_type": "code",
      "source": [
        "type(age)"
      ],
      "metadata": {
        "colab": {
          "base_uri": "https://localhost:8080/"
        },
        "id": "cOZTRncSLpKD",
        "outputId": "8f7076bc-a1fd-4042-dbea-cee4001c1e7f"
      },
      "execution_count": null,
      "outputs": [
        {
          "output_type": "execute_result",
          "data": {
            "text/plain": [
              "float"
            ]
          },
          "metadata": {},
          "execution_count": 12
        }
      ]
    },
    {
      "cell_type": "code",
      "source": [
        "x =True"
      ],
      "metadata": {
        "id": "lRBecglTNDDL"
      },
      "execution_count": null,
      "outputs": []
    },
    {
      "cell_type": "code",
      "source": [
        "type(x)"
      ],
      "metadata": {
        "colab": {
          "base_uri": "https://localhost:8080/"
        },
        "id": "VZkuUbMCOIEU",
        "outputId": "cb6dbf70-9f45-44af-da2e-b12e68b6269d"
      },
      "execution_count": null,
      "outputs": [
        {
          "output_type": "execute_result",
          "data": {
            "text/plain": [
              "bool"
            ]
          },
          "metadata": {},
          "execution_count": 17
        }
      ]
    },
    {
      "cell_type": "code",
      "source": [
        "#list (mutable)\n",
        "days = ['sunday','monday','tuesday','wednesday','thursday','friday','saturday']\n",
        "type(days)"
      ],
      "metadata": {
        "colab": {
          "base_uri": "https://localhost:8080/"
        },
        "id": "ozY6sdcdPfUu",
        "outputId": "9e4a7790-dbb9-4e81-c37a-6e463ee72f38"
      },
      "execution_count": null,
      "outputs": [
        {
          "output_type": "execute_result",
          "data": {
            "text/plain": [
              "list"
            ]
          },
          "metadata": {},
          "execution_count": 23
        }
      ]
    },
    {
      "cell_type": "code",
      "source": [],
      "metadata": {
        "id": "bCxvj4yYQwWx"
      },
      "execution_count": null,
      "outputs": []
    },
    {
      "cell_type": "code",
      "source": [
        "# tuple (immutable)\n",
        "tuple_1 = ('sreesanth',95,'saketh',97,'nikhil',93)\n",
        "print(tuple_1)"
      ],
      "metadata": {
        "colab": {
          "base_uri": "https://localhost:8080/"
        },
        "id": "KODAPy2rQAH4",
        "outputId": "5e92bb19-4a80-432b-bb8d-04825edddf6d"
      },
      "execution_count": null,
      "outputs": [
        {
          "output_type": "stream",
          "name": "stdout",
          "text": [
            "('sreesanth', 95, 'saketh', 97, 'nikhil', 93)\n"
          ]
        }
      ]
    },
    {
      "cell_type": "code",
      "source": [
        "even = list(range(2,27,2))\n",
        "odd = list(range(1,26,2))\n",
        "print(even)\n",
        "print(odd)"
      ],
      "metadata": {
        "colab": {
          "base_uri": "https://localhost:8080/"
        },
        "id": "1izv5wVDRGwv",
        "outputId": "6668f0d1-c0a2-49cb-a97b-360ade0b8507"
      },
      "execution_count": null,
      "outputs": [
        {
          "output_type": "stream",
          "name": "stdout",
          "text": [
            "[2, 4, 6, 8, 10, 12, 14, 16, 18, 20, 22, 24, 26]\n",
            "[1, 3, 5, 7, 9, 11, 13, 15, 17, 19, 21, 23, 25]\n"
          ]
        }
      ]
    },
    {
      "cell_type": "code",
      "source": [
        "#range function\n",
        "#has 3 parameters start, stop, step\n",
        "\n",
        "list(range(3,13,3))"
      ],
      "metadata": {
        "colab": {
          "base_uri": "https://localhost:8080/"
        },
        "id": "zoFfh7yCSyCD",
        "outputId": "5e47a2ee-b30e-431b-f94c-2962459f7c0e"
      },
      "execution_count": null,
      "outputs": [
        {
          "output_type": "execute_result",
          "data": {
            "text/plain": [
              "[3, 6, 9, 12]"
            ]
          },
          "metadata": {},
          "execution_count": 60
        }
      ]
    },
    {
      "cell_type": "code",
      "source": [
        "list(range(8,-1,-2))"
      ],
      "metadata": {
        "colab": {
          "base_uri": "https://localhost:8080/"
        },
        "id": "ZiKRQ4JYS_hZ",
        "outputId": "93f0ca7e-1338-4078-f8f9-b906a93c482c"
      },
      "execution_count": null,
      "outputs": [
        {
          "output_type": "execute_result",
          "data": {
            "text/plain": [
              "[8, 6, 4, 2, 0]"
            ]
          },
          "metadata": {},
          "execution_count": 36
        }
      ]
    },
    {
      "cell_type": "code",
      "source": [
        "details = {'batch':7, 'course':'DSA'}\n",
        "print(details['batch'])\n",
        "print(details['course'])"
      ],
      "metadata": {
        "colab": {
          "base_uri": "https://localhost:8080/"
        },
        "id": "USYGhlX1Tmlo",
        "outputId": "1ed6972a-63e3-4cfc-d95b-766a4690f0ea"
      },
      "execution_count": null,
      "outputs": [
        {
          "output_type": "stream",
          "name": "stdout",
          "text": [
            "7\n",
            "DSA\n"
          ]
        }
      ]
    },
    {
      "cell_type": "code",
      "source": [
        "type(details)\n",
        "print(details.keys())\n",
        "print(details.values())"
      ],
      "metadata": {
        "colab": {
          "base_uri": "https://localhost:8080/"
        },
        "id": "DZEmUoTiUKfK",
        "outputId": "b296e80b-51ae-4f29-9498-cfedf23d1f0c"
      },
      "execution_count": null,
      "outputs": [
        {
          "output_type": "stream",
          "name": "stdout",
          "text": [
            "dict_keys(['batch', 'course', 'location'])\n",
            "dict_values([7, 'DSA', 'Trivandrum'])\n"
          ]
        }
      ]
    },
    {
      "cell_type": "code",
      "source": [
        "details['location'] = 'Trivandrum'\n",
        "details"
      ],
      "metadata": {
        "colab": {
          "base_uri": "https://localhost:8080/"
        },
        "id": "DrxEokleUmeQ",
        "outputId": "34b22ff1-07f0-4b90-b373-1b1aaf5b1177"
      },
      "execution_count": null,
      "outputs": [
        {
          "output_type": "execute_result",
          "data": {
            "text/plain": [
              "{'batch': 7, 'course': 'DSA', 'location': 'Trivandrum'}"
            ]
          },
          "metadata": {},
          "execution_count": 53
        }
      ]
    },
    {
      "cell_type": "code",
      "source": [
        "#set\n",
        "data = [1,2,4,6,2,1,8,6,7,1,3,4,9,8,8,9,4,7,3,6,5,1]\n",
        "set(data)"
      ],
      "metadata": {
        "colab": {
          "base_uri": "https://localhost:8080/"
        },
        "id": "pMMiyNjuVQIn",
        "outputId": "97d83ab3-d636-4274-daf8-094f4f9e1b70"
      },
      "execution_count": null,
      "outputs": [
        {
          "output_type": "execute_result",
          "data": {
            "text/plain": [
              "{1, 2, 3, 4, 5, 6, 7, 8, 9}"
            ]
          },
          "metadata": {},
          "execution_count": 57
        }
      ]
    },
    {
      "cell_type": "code",
      "source": [
        "#boolean\n",
        "engine_on = True\n",
        "fan_on = False\n",
        "type(engine_on)"
      ],
      "metadata": {
        "colab": {
          "base_uri": "https://localhost:8080/"
        },
        "id": "Yw4R_jzAV2AM",
        "outputId": "ec4e0345-1ce9-40bc-de33-45d7dc5b9e42"
      },
      "execution_count": null,
      "outputs": [
        {
          "output_type": "execute_result",
          "data": {
            "text/plain": [
              "bool"
            ]
          },
          "metadata": {},
          "execution_count": 58
        }
      ]
    },
    {
      "cell_type": "code",
      "source": [
        "#None dtype\n",
        "value = None\n",
        "type(value)"
      ],
      "metadata": {
        "colab": {
          "base_uri": "https://localhost:8080/"
        },
        "id": "PxXst7OzWNP5",
        "outputId": "d77a2c13-dfa2-4de6-ae97-922e78de9440"
      },
      "execution_count": null,
      "outputs": [
        {
          "output_type": "execute_result",
          "data": {
            "text/plain": [
              "NoneType"
            ]
          },
          "metadata": {},
          "execution_count": 61
        }
      ]
    },
    {
      "cell_type": "code",
      "source": [
        "#declaring variable names\n",
        "#use lowercase\n",
        "#if there are multiple words, use underscore to seperate them\n",
        "#can't use reserved words\n",
        "\n",
        "student_name = 'abcdefg'\n",
        "age = 12"
      ],
      "metadata": {
        "id": "-Xcz9f5JXhrm"
      },
      "execution_count": null,
      "outputs": []
    },
    {
      "cell_type": "code",
      "source": [
        "year_of_birth = 1990\n",
        "age = 2025 - year_of_birth\n",
        "print(age)"
      ],
      "metadata": {
        "colab": {
          "base_uri": "https://localhost:8080/"
        },
        "id": "GPLugS2_YCy8",
        "outputId": "8673f2e2-1f19-4a57-b2a5-9e43535d92da"
      },
      "execution_count": null,
      "outputs": [
        {
          "output_type": "stream",
          "name": "stdout",
          "text": [
            "35\n"
          ]
        }
      ]
    },
    {
      "cell_type": "code",
      "source": [
        "biodata = {'name': 'Sreesanth','age': 21, \\\n",
        "           'location':'pathanamthitta'}\n",
        "biodata\n"
      ],
      "metadata": {
        "colab": {
          "base_uri": "https://localhost:8080/"
        },
        "id": "sNGgByxHZS7n",
        "outputId": "9b57653e-b143-43f5-a7ae-78d01b67985a"
      },
      "execution_count": null,
      "outputs": [
        {
          "output_type": "execute_result",
          "data": {
            "text/plain": [
              "{'name': 'Sreesanth', 'age': 21, 'location': 'pathanamthitta'}"
            ]
          },
          "metadata": {},
          "execution_count": 71
        }
      ]
    },
    {
      "cell_type": "code",
      "source": [
        "#create a list of odd numbers from 100 to 1 using range\n",
        "list_2 = list(range(99,0,-2))\n",
        "print(list_2)\n"
      ],
      "metadata": {
        "colab": {
          "base_uri": "https://localhost:8080/"
        },
        "id": "nt8EJ7jeal1G",
        "outputId": "3742af45-0916-4ff2-b505-e15793b80148"
      },
      "execution_count": null,
      "outputs": [
        {
          "output_type": "stream",
          "name": "stdout",
          "text": [
            "[99, 97, 95, 93, 91, 89, 87, 85, 83, 81, 79, 77, 75, 73, 71, 69, 67, 65, 63, 61, 59, 57, 55, 53, 51, 49, 47, 45, 43, 41, 39, 37, 35, 33, 31, 29, 27, 25, 23, 21, 19, 17, 15, 13, 11, 9, 7, 5, 3, 1]\n"
          ]
        }
      ]
    },
    {
      "cell_type": "code",
      "source": [
        "to_do_list = ['wash clothes','prepare notes','drink water','take medicine','read']\n",
        "print(to_do_list[1])\n",
        "print(to_do_list[-2])"
      ],
      "metadata": {
        "colab": {
          "base_uri": "https://localhost:8080/"
        },
        "id": "j5BF16FPcR_V",
        "outputId": "bb077ae3-29fc-4cdf-8c89-fc9e5affa0e2"
      },
      "execution_count": null,
      "outputs": [
        {
          "output_type": "stream",
          "name": "stdout",
          "text": [
            "prepare notes\n",
            "take medicine\n"
          ]
        }
      ]
    },
    {
      "cell_type": "code",
      "source": [
        "my_name = 'Nikhil'\n",
        "print(len(my_name))"
      ],
      "metadata": {
        "colab": {
          "base_uri": "https://localhost:8080/"
        },
        "id": "GRACQApIdE6D",
        "outputId": "520e92d8-e5cc-4725-aa0f-7c52eec158d1"
      },
      "execution_count": null,
      "outputs": [
        {
          "output_type": "stream",
          "name": "stdout",
          "text": [
            "6\n"
          ]
        }
      ]
    },
    {
      "cell_type": "code",
      "source": [
        "first_name = input('Enter First Name: ')\n",
        "last_name = input('Enter Last Name: ')\n",
        "print(f'Hello {first_name} {last_name}')"
      ],
      "metadata": {
        "colab": {
          "base_uri": "https://localhost:8080/"
        },
        "id": "VyeBJarBdjQK",
        "outputId": "b489f82a-e510-4b7d-f6d0-61f41a5676ed"
      },
      "execution_count": null,
      "outputs": [
        {
          "output_type": "stream",
          "name": "stdout",
          "text": [
            "Enter First Name: Sreesanth\n",
            "Enter Last Name: R Nair\n",
            "Hello Sreesanth R Nair\n"
          ]
        }
      ]
    },
    {
      "cell_type": "code",
      "source": [
        "from typing import ForwardRef\n",
        "number_1 = int(input('Enter First Number: '))\n",
        "number_2 = int(input('Enter Second Number: '))\n",
        "\n",
        "print('The sum is ', number_1 + number_2)\n",
        "print('The difference is ',number_1 - number_2)\n",
        "print('The product is ' ,number_1 * number_2)\n",
        "# try:\n",
        "#   print('The quotient is ',number_1 / number_2)\n",
        "# except ZeroDivisionError:\n",
        "#   print(\"Can't divide by zero\")\n",
        "print('The quotient is ',number_1 / number_2)"
      ],
      "metadata": {
        "colab": {
          "base_uri": "https://localhost:8080/"
        },
        "id": "teEli50weho7",
        "outputId": "8b61f5f7-2602-4aaa-9c0e-65f48b90953f"
      },
      "execution_count": null,
      "outputs": [
        {
          "output_type": "stream",
          "name": "stdout",
          "text": [
            "Enter First Number: 1\n",
            "Enter Second Number: 2\n",
            "The sum is  3\n",
            "The difference is  -1\n",
            "The product is  2\n",
            "The quotient is  0.5\n"
          ]
        }
      ]
    },
    {
      "cell_type": "code",
      "source": [
        "yob = int(input('Enter your year of birth: '))\n",
        "print(f'Your were born in {yob}')\n",
        "print(f'Your age is {2025 - yob}')"
      ],
      "metadata": {
        "colab": {
          "base_uri": "https://localhost:8080/"
        },
        "id": "rE8YLAHohDva",
        "outputId": "7fc85eac-99fd-4456-b545-0a54c7692dde"
      },
      "execution_count": null,
      "outputs": [
        {
          "output_type": "stream",
          "name": "stdout",
          "text": [
            "Enter your year of birth: 2003\n",
            "Your were born in 2003\n",
            "Your age is 22\n"
          ]
        }
      ]
    },
    {
      "cell_type": "markdown",
      "source": [
        "#Operators\n",
        "##Assignment Operators\n",
        "addition: +\\\n",
        "subtraction: -\\\n",
        "multiplication: \\*\\\n",
        "division: /\\\n",
        "modulus: %\\\n",
        "exponentiation: **\\\n",
        "floor dividion: //"
      ],
      "metadata": {
        "id": "teTQmg8fnrUQ"
      }
    },
    {
      "cell_type": "code",
      "source": [
        "num1 = 17\n",
        "num2 = 3\n",
        "print(num1+num2)\n",
        "print(num1-num2)\n",
        "print(num1*num2)\n",
        "print(num1/num2)\n",
        "print(num1%num2)\n",
        "print(num1**num2)\n",
        "print(num1//num2)"
      ],
      "metadata": {
        "colab": {
          "base_uri": "https://localhost:8080/"
        },
        "id": "cbUFk0Vknqup",
        "outputId": "f80016db-d53c-4469-94c7-236005912285"
      },
      "execution_count": null,
      "outputs": [
        {
          "output_type": "stream",
          "name": "stdout",
          "text": [
            "20\n",
            "14\n",
            "51\n",
            "5.666666666666667\n",
            "2\n",
            "4913\n",
            "5\n"
          ]
        }
      ]
    },
    {
      "cell_type": "markdown",
      "source": [
        "###Comparison Operators"
      ],
      "metadata": {
        "id": "tv1jpnbFp4Ds"
      }
    },
    {
      "cell_type": "code",
      "source": [
        "2 == 2"
      ],
      "metadata": {
        "colab": {
          "base_uri": "https://localhost:8080/"
        },
        "id": "VA_YsfIgpoPW",
        "outputId": "40cabadb-cebc-4f5a-c62b-f665997d5c75"
      },
      "execution_count": null,
      "outputs": [
        {
          "output_type": "execute_result",
          "data": {
            "text/plain": [
              "True"
            ]
          },
          "metadata": {},
          "execution_count": 110
        }
      ]
    },
    {
      "cell_type": "code",
      "source": [
        "3 != 2"
      ],
      "metadata": {
        "colab": {
          "base_uri": "https://localhost:8080/"
        },
        "id": "U7w2LG7spqOR",
        "outputId": "01d8f3eb-eb98-43fd-8eb0-4ada04220cf8"
      },
      "execution_count": null,
      "outputs": [
        {
          "output_type": "execute_result",
          "data": {
            "text/plain": [
              "True"
            ]
          },
          "metadata": {},
          "execution_count": 111
        }
      ]
    },
    {
      "cell_type": "code",
      "source": [
        "4 > 2"
      ],
      "metadata": {
        "colab": {
          "base_uri": "https://localhost:8080/"
        },
        "id": "A-tGBn09ptPQ",
        "outputId": "556ee62f-88f4-4f5e-b707-aaf2def5e93a"
      },
      "execution_count": null,
      "outputs": [
        {
          "output_type": "execute_result",
          "data": {
            "text/plain": [
              "True"
            ]
          },
          "metadata": {},
          "execution_count": 108
        }
      ]
    },
    {
      "cell_type": "code",
      "source": [
        "12 >= 12"
      ],
      "metadata": {
        "colab": {
          "base_uri": "https://localhost:8080/"
        },
        "id": "EWWpXPNRqlZA",
        "outputId": "bf474185-b505-441e-8ab5-0f83de5bdf7e"
      },
      "execution_count": null,
      "outputs": [
        {
          "output_type": "execute_result",
          "data": {
            "text/plain": [
              "True"
            ]
          },
          "metadata": {},
          "execution_count": 123
        }
      ]
    },
    {
      "cell_type": "code",
      "source": [
        "print(2 < 1)"
      ],
      "metadata": {
        "colab": {
          "base_uri": "https://localhost:8080/"
        },
        "id": "l_kNciJoqp_7",
        "outputId": "5d46486f-7ee6-4858-bb17-8ba8a2a89402"
      },
      "execution_count": null,
      "outputs": [
        {
          "output_type": "stream",
          "name": "stdout",
          "text": [
            "False\n"
          ]
        }
      ]
    },
    {
      "cell_type": "code",
      "source": [
        "2 <= 3"
      ],
      "metadata": {
        "colab": {
          "base_uri": "https://localhost:8080/"
        },
        "id": "gx3ZnarjpwIb",
        "outputId": "0509c136-53d3-45f1-aedf-80119812fd62"
      },
      "execution_count": null,
      "outputs": [
        {
          "output_type": "execute_result",
          "data": {
            "text/plain": [
              "True"
            ]
          },
          "metadata": {},
          "execution_count": 109
        }
      ]
    },
    {
      "cell_type": "markdown",
      "source": [
        "###Logical Operators"
      ],
      "metadata": {
        "id": "E2lfF5GEp_LG"
      }
    },
    {
      "cell_type": "code",
      "source": [
        "print(True or False)"
      ],
      "metadata": {
        "colab": {
          "base_uri": "https://localhost:8080/"
        },
        "id": "eqzRyY5VqC1u",
        "outputId": "247b6e07-3be3-410d-ff72-a48ca5339d60"
      },
      "execution_count": null,
      "outputs": [
        {
          "output_type": "stream",
          "name": "stdout",
          "text": [
            "True\n"
          ]
        }
      ]
    },
    {
      "cell_type": "code",
      "source": [
        "print(True and False)"
      ],
      "metadata": {
        "colab": {
          "base_uri": "https://localhost:8080/"
        },
        "id": "6z1llzjdqJKn",
        "outputId": "4de83dfe-6efa-4c84-86d7-250f015e9773"
      },
      "execution_count": null,
      "outputs": [
        {
          "output_type": "stream",
          "name": "stdout",
          "text": [
            "False\n"
          ]
        }
      ]
    },
    {
      "cell_type": "code",
      "source": [
        "print(not False)"
      ],
      "metadata": {
        "colab": {
          "base_uri": "https://localhost:8080/"
        },
        "id": "Bt3l_tvlqRIE",
        "outputId": "de60d728-2541-420a-a9e2-6c9778eea42a"
      },
      "execution_count": null,
      "outputs": [
        {
          "output_type": "stream",
          "name": "stdout",
          "text": [
            "True\n"
          ]
        }
      ]
    },
    {
      "cell_type": "markdown",
      "source": [
        "###Membership operators"
      ],
      "metadata": {
        "id": "IgPvnFdJqu5H"
      }
    },
    {
      "cell_type": "code",
      "source": [
        "#IN\n",
        "print(2 in [1,2,3,4,5])"
      ],
      "metadata": {
        "colab": {
          "base_uri": "https://localhost:8080/"
        },
        "id": "peiyHBlMqy3D",
        "outputId": "660a4778-5078-4b9e-df59-e2e11057ea38"
      },
      "execution_count": null,
      "outputs": [
        {
          "output_type": "stream",
          "name": "stdout",
          "text": [
            "True\n"
          ]
        }
      ]
    },
    {
      "cell_type": "code",
      "source": [
        "print(2 in [1,3,5,7])"
      ],
      "metadata": {
        "colab": {
          "base_uri": "https://localhost:8080/"
        },
        "id": "ZTfkjN2xq5aF",
        "outputId": "e7669d20-c49f-44d5-8325-41c1bd3b9c35"
      },
      "execution_count": null,
      "outputs": [
        {
          "output_type": "stream",
          "name": "stdout",
          "text": [
            "False\n"
          ]
        }
      ]
    },
    {
      "cell_type": "code",
      "source": [
        "#NOT IN\n",
        "print(21 not in [10,20,30,40,50])"
      ],
      "metadata": {
        "colab": {
          "base_uri": "https://localhost:8080/"
        },
        "id": "eskkPih2rD0A",
        "outputId": "9fd837f7-7aef-48fd-cd91-c4926716346d"
      },
      "execution_count": null,
      "outputs": [
        {
          "output_type": "stream",
          "name": "stdout",
          "text": [
            "True\n"
          ]
        }
      ]
    },
    {
      "cell_type": "code",
      "source": [
        "print('sree' in 'sreesanth')"
      ],
      "metadata": {
        "colab": {
          "base_uri": "https://localhost:8080/"
        },
        "id": "TcHf_oXVrKzv",
        "outputId": "b47643c5-d4d0-4734-f9f7-c86d6ab8be80"
      },
      "execution_count": null,
      "outputs": [
        {
          "output_type": "stream",
          "name": "stdout",
          "text": [
            "True\n"
          ]
        }
      ]
    },
    {
      "cell_type": "markdown",
      "source": [
        "###Identity Operators"
      ],
      "metadata": {
        "id": "XWtsN0MWrbJb"
      }
    },
    {
      "cell_type": "code",
      "source": [
        "#IS\n",
        "a = 12\n",
        "b = 12\n",
        "print(a is b)\n",
        "c = 13\n",
        "print(a is c)\n"
      ],
      "metadata": {
        "colab": {
          "base_uri": "https://localhost:8080/"
        },
        "id": "-c6ov2jdreDe",
        "outputId": "887633fe-7dcc-4e7e-9143-f82d9c720b17"
      },
      "execution_count": null,
      "outputs": [
        {
          "output_type": "stream",
          "name": "stdout",
          "text": [
            "True\n",
            "False\n"
          ]
        }
      ]
    },
    {
      "cell_type": "code",
      "source": [
        "#IS NOT\n",
        "print(a is not c)"
      ],
      "metadata": {
        "colab": {
          "base_uri": "https://localhost:8080/"
        },
        "id": "f5d1Vyqhr2I6",
        "outputId": "bd25b4b1-d7a2-40bb-d470-a1e03fb9095c"
      },
      "execution_count": null,
      "outputs": [
        {
          "output_type": "stream",
          "name": "stdout",
          "text": [
            "True\n"
          ]
        }
      ]
    },
    {
      "cell_type": "code",
      "source": [
        "message = input(\"Enter Greeting Message: \") + \"\\n\"\n",
        "print(message * 5)"
      ],
      "metadata": {
        "colab": {
          "base_uri": "https://localhost:8080/"
        },
        "id": "7FuMUSZFshTJ",
        "outputId": "a556e294-7418-4f38-f279-fb41de3f762d"
      },
      "execution_count": null,
      "outputs": [
        {
          "output_type": "stream",
          "name": "stdout",
          "text": [
            "Enter Greeting Message: Hello\n",
            "Hello\n",
            "Hello\n",
            "Hello\n",
            "Hello\n",
            "Hello\n",
            "\n"
          ]
        }
      ]
    },
    {
      "cell_type": "markdown",
      "source": [
        "###Indexing"
      ],
      "metadata": {
        "id": "0kiWtfMFt49I"
      }
    },
    {
      "cell_type": "code",
      "source": [
        "greeting = 'Congratulations!'\n",
        "print(greeting[0])\n",
        "print(greeting[5])\n",
        "print(greeting[-1])\n",
        "print(greeting[-3])\n",
        "print(greeting[0:6])\n",
        "print(greeting[6:])\n",
        "print(greeting[3:8])\n",
        "print(greeting[0:10:2])\n",
        "print(greeting[::-1])"
      ],
      "metadata": {
        "colab": {
          "base_uri": "https://localhost:8080/"
        },
        "id": "Jcz0cUZbt3Vp",
        "outputId": "fd2ae51a-b58d-4a80-805e-34e5266b7d75"
      },
      "execution_count": null,
      "outputs": [
        {
          "output_type": "stream",
          "name": "stdout",
          "text": [
            "C\n",
            "a\n",
            "!\n",
            "n\n",
            "Congra\n",
            "tulations!\n",
            "gratu\n",
            "Cnrtl\n",
            "!snoitalutargnoC\n"
          ]
        }
      ]
    },
    {
      "cell_type": "code",
      "source": [
        "# nu = list(map(int, input(\"enter: \")))\n",
        "# print(nu)"
      ],
      "metadata": {
        "id": "E6PANKfGhqqp"
      },
      "execution_count": null,
      "outputs": []
    },
    {
      "cell_type": "code",
      "source": [
        "#split()\n",
        "message_2 = \"Hello my name is x\"\n",
        "print(message_2.split())\n",
        "print(message_2.split()[0])\n",
        "print(message_2.split()[1:])"
      ],
      "metadata": {
        "colab": {
          "base_uri": "https://localhost:8080/"
        },
        "id": "no5zg9KMvalK",
        "outputId": "4ad0f1b0-677a-4504-8584-ecbbf36a33df"
      },
      "execution_count": null,
      "outputs": [
        {
          "output_type": "stream",
          "name": "stdout",
          "text": [
            "['Hello', 'my', 'name', 'is', 'x']\n",
            "Hello\n",
            "['my', 'name', 'is', 'x']\n"
          ]
        }
      ]
    },
    {
      "cell_type": "code",
      "source": [
        "word = input('Enter Word: ')\n",
        "pal = word[::-1]\n",
        "# if word == pal:\n",
        "#   print(f\"The word {word} is a palindrome\")\n",
        "# else:\n",
        "#   print(f\"The word {word} is not a palindrome\")\n",
        "pal == word"
      ],
      "metadata": {
        "colab": {
          "base_uri": "https://localhost:8080/"
        },
        "id": "IumiQBLAv8kB",
        "outputId": "778dbded-1586-40a7-f8e3-4ee8e8a78329"
      },
      "execution_count": null,
      "outputs": [
        {
          "name": "stdout",
          "output_type": "stream",
          "text": [
            "Enter Word: malayalam\n"
          ]
        },
        {
          "output_type": "execute_result",
          "data": {
            "text/plain": [
              "True"
            ]
          },
          "metadata": {},
          "execution_count": 166
        }
      ]
    },
    {
      "cell_type": "code",
      "source": [
        "words = ['zero','one','two','three','four','five','six','seven','eight','nine']\n",
        "# otp = input('Enter OTP: ').split()\n",
        "# print(otp)\n",
        "number = int(input(\"Enter Number: \"))\n",
        "print(words[number])\n"
      ],
      "metadata": {
        "colab": {
          "base_uri": "https://localhost:8080/"
        },
        "id": "Fdrt1Tp5xE1P",
        "outputId": "00d4815d-1445-4546-a16f-af31710a3455"
      },
      "execution_count": null,
      "outputs": [
        {
          "output_type": "stream",
          "name": "stdout",
          "text": [
            "Enter Number: 9\n",
            "nine\n"
          ]
        }
      ]
    },
    {
      "cell_type": "code",
      "source": [
        "words = ['zero','one','two','three','four','five','six','seven','eight','nine']\n",
        "otp = (input('Enter OTP: '))\n",
        "print(words[int(otp[0])],words[int(otp[1])],words[int(otp[2])],words[int(otp[3])])"
      ],
      "metadata": {
        "colab": {
          "base_uri": "https://localhost:8080/"
        },
        "id": "yXGw2UqdyFid",
        "outputId": "c3bea5a4-88fe-48bc-8730-a73bb1acbaf4"
      },
      "execution_count": null,
      "outputs": [
        {
          "output_type": "stream",
          "name": "stdout",
          "text": [
            "Enter OTP: 1652\n",
            "one six five two\n"
          ]
        }
      ]
    },
    {
      "cell_type": "code",
      "source": [
        "list(\"hello\")"
      ],
      "metadata": {
        "colab": {
          "base_uri": "https://localhost:8080/"
        },
        "id": "p2HsQ0wMzpoo",
        "outputId": "4496fd79-87fe-453f-f045-ff1c79241cf3"
      },
      "execution_count": null,
      "outputs": [
        {
          "output_type": "execute_result",
          "data": {
            "text/plain": [
              "['h', 'e', 'l', 'l', 'o']"
            ]
          },
          "metadata": {},
          "execution_count": 167
        }
      ]
    },
    {
      "cell_type": "code",
      "source": [
        "word = input('Enter number in words: ').split()\n",
        "nums = {'zero':0,'one':1,'two':2,'three':3,'four':4,'five':5,'six':6,'seven':7,'eight':8,'nine':9}\n",
        "print(nums[word[0]],nums[word[1]],nums[word[2]],nums[word[3]])"
      ],
      "metadata": {
        "colab": {
          "base_uri": "https://localhost:8080/"
        },
        "id": "n7mVpHXezr3B",
        "outputId": "b4dedae2-bfe9-4fb7-cacc-64dea0960572"
      },
      "execution_count": null,
      "outputs": [
        {
          "output_type": "stream",
          "name": "stdout",
          "text": [
            "Enter number in words: nine one two six\n",
            "9 1 2 6\n"
          ]
        }
      ]
    },
    {
      "cell_type": "code",
      "source": [],
      "metadata": {
        "id": "wRNkLQf8gCMJ"
      },
      "execution_count": null,
      "outputs": []
    },
    {
      "cell_type": "code",
      "source": [
        "words = {0:'zero',1:'one',2:'two',3:'three',4:'four',5:'five',6:'six',7:'seven',8:'eight',9:'nine'}\n",
        "otp = (input('Enter OTP: '))\n",
        "print(words[int(otp[0])],words[int(otp[1])],words[int(otp[2])],words[int(otp[3])])"
      ],
      "metadata": {
        "id": "pEF2dV_a9OLV",
        "colab": {
          "base_uri": "https://localhost:8080/"
        },
        "outputId": "96c9ef96-14c6-4361-a668-f130673e73c9"
      },
      "execution_count": null,
      "outputs": [
        {
          "output_type": "stream",
          "name": "stdout",
          "text": [
            "Enter OTP: 1234\n",
            "one two three four\n"
          ]
        }
      ]
    },
    {
      "cell_type": "code",
      "source": [
        "#program to print four digit otp as numbers\n",
        "digit_words={1:\"one\",2:\"two\",3:\"three\",4:\"four\",5:'five',6:'six',7:'seven',8:'eight',9:'nine'}\n",
        "otp =input(\"enter otp : \")\n",
        "print(words[int(otp[0])],words[int(otp[1])],words[int(otp[2])],\n",
        "      words[int(otp[3])])"
      ],
      "metadata": {
        "colab": {
          "base_uri": "https://localhost:8080/"
        },
        "id": "P0_Ouy4ahMUw",
        "outputId": "c8321ea9-5046-4cb7-bab1-64b4d894a224"
      },
      "execution_count": null,
      "outputs": [
        {
          "output_type": "stream",
          "name": "stdout",
          "text": [
            "enter otp : 9876\n",
            "nine eight seven six\n"
          ]
        }
      ]
    },
    {
      "cell_type": "markdown",
      "source": [],
      "metadata": {
        "id": "rGMGwiOND1ok"
      }
    }
  ]
}