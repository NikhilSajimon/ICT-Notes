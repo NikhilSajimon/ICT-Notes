{
  "nbformat": 4,
  "nbformat_minor": 0,
  "metadata": {
    "colab": {
      "provenance": [],
      "authorship_tag": "ABX9TyNIRJzs5avwF3nzkfZYFI4M",
      "include_colab_link": true
    },
    "kernelspec": {
      "name": "python3",
      "display_name": "Python 3"
    },
    "language_info": {
      "name": "python"
    }
  },
  "cells": [
    {
      "cell_type": "markdown",
      "metadata": {
        "id": "view-in-github",
        "colab_type": "text"
      },
      "source": [
        "<a href=\"https://colab.research.google.com/github/NikhilSajimon/ICT-Notes/blob/main/python_05082025.ipynb\" target=\"_parent\"><img src=\"https://colab.research.google.com/assets/colab-badge.svg\" alt=\"Open In Colab\"/></a>"
      ]
    },
    {
      "cell_type": "markdown",
      "source": [
        "##Control Flow\n",
        "1.IF:     This checks a condition, and if it's true, the indented code block under it will be executed.\\\n"
      ],
      "metadata": {
        "id": "zg42PpypTNon"
      }
    },
    {
      "cell_type": "code",
      "execution_count": null,
      "metadata": {
        "colab": {
          "base_uri": "https://localhost:8080/"
        },
        "id": "8gYP54i9SDkh",
        "outputId": "72c2c6c5-8875-470c-b8ef-ad749f4cec46"
      },
      "outputs": [
        {
          "output_type": "stream",
          "name": "stdout",
          "text": [
            "Enter age: 19\n",
            "You are eligible to vote.\n"
          ]
        }
      ],
      "source": [
        "age = int(input('Enter age: '))\n",
        "if age >= 18:\n",
        "  print('You are eligible to vote.')"
      ]
    },
    {
      "cell_type": "markdown",
      "source": [
        "2.IF ELSE:     This checks a condition, and if it's true, the indented code block under it will be executed. Else, the code inside the else block will be executed."
      ],
      "metadata": {
        "id": "hJrh_bXLUOLI"
      }
    },
    {
      "cell_type": "code",
      "source": [
        "age = int(input('Enter age: '))\n",
        "if age >= 18:\n",
        "  print('You are eligible to vote.')\n",
        "else:\n",
        "  print('You are not eligible to vote.')"
      ],
      "metadata": {
        "colab": {
          "base_uri": "https://localhost:8080/"
        },
        "id": "9dxyO89jTqa0",
        "outputId": "ae31e67a-88df-4005-96b6-d9a67d163641"
      },
      "execution_count": null,
      "outputs": [
        {
          "output_type": "stream",
          "name": "stdout",
          "text": [
            "Enter age: 19\n",
            "You are eligible to vote.\n"
          ]
        }
      ]
    },
    {
      "cell_type": "markdown",
      "source": [
        "3. IF-ELIF-ELIF\\\n",
        "if condition1:\\\n",
        "    runs if condition1 is True\\\n",
        "elif condition2:\\\n",
        "    runs if condition2 is True\\\n",
        "elif condition3:\\\n",
        "    runs if condition3 is True\n"
      ],
      "metadata": {
        "id": "tOUX-EJAVy5N"
      }
    },
    {
      "cell_type": "code",
      "source": [
        "marks = int(input('Enter marks: '))\n",
        "if marks >= 60:\n",
        "  print('Good')\n",
        "elif marks >= 30:\n",
        "  print('Average')\n",
        "elif marks < 30:\n",
        "  print(\"Need Improvement\")\n"
      ],
      "metadata": {
        "colab": {
          "base_uri": "https://localhost:8080/"
        },
        "id": "pIo-j-xYUv1e",
        "outputId": "eb17f3ab-9b41-49ba-f4a0-243da76fb0ce"
      },
      "execution_count": null,
      "outputs": [
        {
          "output_type": "stream",
          "name": "stdout",
          "text": [
            "Enter marks: 65\n",
            "Good\n"
          ]
        }
      ]
    },
    {
      "cell_type": "code",
      "source": [
        "age = int(input('Enter age: '))\n",
        "if age >= 60:\n",
        "  print('Senior citizen')\n",
        "elif age >=20:\n",
        "  print('Adult')\n",
        "elif age >= 13:\n",
        "  print('Teenager')\n",
        "else:\n",
        "  print('Child')"
      ],
      "metadata": {
        "colab": {
          "base_uri": "https://localhost:8080/"
        },
        "id": "MXdBMwxgWInD",
        "outputId": "6291243c-86b6-42b8-e647-ce505a83187d"
      },
      "execution_count": null,
      "outputs": [
        {
          "output_type": "stream",
          "name": "stdout",
          "text": [
            "Enter age: 13\n",
            "Teenager\n"
          ]
        }
      ]
    },
    {
      "cell_type": "markdown",
      "source": [
        "Nested IFs"
      ],
      "metadata": {
        "id": "IQJvarI8YeBW"
      }
    },
    {
      "cell_type": "code",
      "source": [
        "#excercise\n",
        "name = input('Enter your name: ')\n",
        "if len(name) >= 10:\n",
        "  print('You have a long name')\n",
        "else:\n",
        "  print('You have a short name')\n"
      ],
      "metadata": {
        "colab": {
          "base_uri": "https://localhost:8080/"
        },
        "id": "6MitEKxIYgmO",
        "outputId": "5b9dc6ef-73bc-4752-e28c-ac2ee507f087"
      },
      "execution_count": null,
      "outputs": [
        {
          "output_type": "stream",
          "name": "stdout",
          "text": [
            "Enter your name: nikhil\n",
            "You have a short name\n"
          ]
        }
      ]
    },
    {
      "cell_type": "code",
      "source": [
        "time = input('Enter Time (HH:MM): ')\n",
        "hour = int(time.split(\":\")[0])\n",
        "if hour > 12:\n",
        "  print(f'The time is {hour - 12} : {time.split(\":\")[1]} PM')\n",
        "elif hour == 12:\n",
        "  print(f'The time is 12 : {time.split(\":\")[1]} PM')\n",
        "elif hour == 00:\n",
        "  print(f'The time is 12 : {time.split(\":\")[1]} AM')\n",
        "else:\n",
        "  print(f'The time is {hour} : {time.split(\":\")[1]} AM')\n"
      ],
      "metadata": {
        "colab": {
          "base_uri": "https://localhost:8080/"
        },
        "id": "8_zAgS8oaiCv",
        "outputId": "0eca8710-6814-4484-e3e7-ee632741c6ea"
      },
      "execution_count": null,
      "outputs": [
        {
          "output_type": "stream",
          "name": "stdout",
          "text": [
            "Enter Time (HH:MM): 18:59\n",
            "The time is 6 : 59 PM\n"
          ]
        }
      ]
    },
    {
      "cell_type": "code",
      "source": [
        "word = input('Enter word: ')\n",
        "palindrome = word[::-1]\n",
        "if word == palindrome:\n",
        "  print(f'The word {word} is a palindrome')\n",
        "else:\n",
        "  print(f'The word {word} is not a palindrome')"
      ],
      "metadata": {
        "colab": {
          "base_uri": "https://localhost:8080/"
        },
        "id": "R1eLNoAhhHqT",
        "outputId": "fbbdf0f9-6a2b-420c-dbae-4424cf0975df"
      },
      "execution_count": null,
      "outputs": [
        {
          "output_type": "stream",
          "name": "stdout",
          "text": [
            "Enter word: malayalam\n",
            "The word malayalam is a palindrome\n"
          ]
        }
      ]
    },
    {
      "cell_type": "code",
      "source": [
        "color = input('Enter your favourite color: ')\n",
        "if color == 'red' or 'blue' or 'green':\n",
        "  print(f'Your favourite color {color} is a primary color')\n",
        "else:\n",
        "  print(f'Your favourite color {color} is not a primary color')"
      ],
      "metadata": {
        "colab": {
          "base_uri": "https://localhost:8080/"
        },
        "id": "oR7Nomj2hkDW",
        "outputId": "7883c153-9fcd-4f2b-b541-4566fba6cc52"
      },
      "execution_count": null,
      "outputs": [
        {
          "output_type": "stream",
          "name": "stdout",
          "text": [
            "Enter your favourite color: red\n",
            "Your favourite color red is a primary color\n"
          ]
        }
      ]
    },
    {
      "cell_type": "code",
      "source": [
        "color = input('Enter your favourite color: ')\n",
        "if color == 'red' or color == 'green' or color == 'blue':\n",
        "  print(f'Your favourite color {color} is a primary color')\n",
        "else:\n",
        "  print(f'Your favourite color {color} is not a primary color')"
      ],
      "metadata": {
        "colab": {
          "base_uri": "https://localhost:8080/"
        },
        "id": "sux69ZDZilpF",
        "outputId": "5a73c8c0-cbf0-41b7-be3a-a7075144b489"
      },
      "execution_count": null,
      "outputs": [
        {
          "output_type": "stream",
          "name": "stdout",
          "text": [
            "Enter your favourite color: yellow\n",
            "Your favourite color yellow is not a primary color\n"
          ]
        }
      ]
    },
    {
      "cell_type": "code",
      "source": [
        "mfd = input('Enter manufacturing date (DD/MM/YY): ')\n",
        "curr_month = 8\n",
        "if int(mfd.split(\"/\")[1]) + 6 < curr_month or int(mfd.split(\"/\")[2] != 2025):\n",
        "  print('The product has expired!')\n",
        "else:\n",
        "  print('Your product has\\'nt expired')\n"
      ],
      "metadata": {
        "colab": {
          "base_uri": "https://localhost:8080/"
        },
        "id": "RDGwqb3rjQjr",
        "outputId": "89af00a7-79ef-4365-daad-2dd38fcea753"
      },
      "execution_count": null,
      "outputs": [
        {
          "output_type": "stream",
          "name": "stdout",
          "text": [
            "Enter manufacturing date (DD/MM/YY): 12/08/2024\n",
            "The product has expired!\n"
          ]
        }
      ]
    },
    {
      "cell_type": "code",
      "source": [
        "numbers = input(\"Enter three numbers: \").split()\n",
        "num_1 = int(numbers[0])\n",
        "num_2 = int(numbers[1])\n",
        "num_3 = int(numbers[2])\n",
        "if num_1 > num_2 and num_1 > num_3:\n",
        "  print(f\"The largest number is {num_1}\")\n",
        "elif num_2 > num_1 and num_2 > num_3:\n",
        "  print(f\"The largest number is {num_2}\")\n",
        "elif num_3 > num_1 and num_3 > num_2:\n",
        "  print(f\"The largest number is {num_3}\")"
      ],
      "metadata": {
        "colab": {
          "base_uri": "https://localhost:8080/"
        },
        "id": "3jeg_bf8sXtm",
        "outputId": "cc6b8ff7-7792-4ac8-b5b8-25d4e0314799"
      },
      "execution_count": null,
      "outputs": [
        {
          "output_type": "stream",
          "name": "stdout",
          "text": [
            "Enter three numbers: 1 2 3\n",
            "The largest number is 3\n"
          ]
        }
      ]
    },
    {
      "cell_type": "markdown",
      "source": [
        "String Formatting"
      ],
      "metadata": {
        "id": "giIShMiA0Cpw"
      }
    },
    {
      "cell_type": "code",
      "source": [
        "print('this is {} and this is {}'.format('a','b'))\n",
        "print('this is {1} and this is {0}'.format('a','b'))\n",
        "print(f\"this is {'a'} and this is {'b'}\")"
      ],
      "metadata": {
        "colab": {
          "base_uri": "https://localhost:8080/"
        },
        "id": "r8EJdGaCzBMB",
        "outputId": "bbb0f363-6748-444f-e22d-dc5fb6aa3079"
      },
      "execution_count": null,
      "outputs": [
        {
          "output_type": "stream",
          "name": "stdout",
          "text": [
            "this is a and this is b\n",
            "this is b and this is a\n",
            "this is a and this is b\n"
          ]
        }
      ]
    },
    {
      "cell_type": "code",
      "source": [
        "pi = 3.14159625\n",
        "print(f\" pi contains {pi:.2f}\")\n",
        "print(f\" pi contains {pi:.3f}\")\n",
        "print(f\" pi contains {pi:.4f}\")\n",
        "print(f\" pi contains {pi:.5f}\")"
      ],
      "metadata": {
        "colab": {
          "base_uri": "https://localhost:8080/"
        },
        "id": "k-EcZAYL0nAy",
        "outputId": "93fa44f7-596f-48f4-cc7c-e6a0c544af30"
      },
      "execution_count": null,
      "outputs": [
        {
          "output_type": "stream",
          "name": "stdout",
          "text": [
            " pi contains 3.14\n",
            " pi contains 3.142\n",
            " pi contains 3.1416\n",
            " pi contains 3.14160\n"
          ]
        }
      ]
    },
    {
      "cell_type": "markdown",
      "source": [
        "multivariable assignment"
      ],
      "metadata": {
        "id": "5TPB8OmD2EDm"
      }
    },
    {
      "cell_type": "code",
      "source": [
        "name, age , location =  'guest', 22, 'Cochin'\n",
        "print(name)\n",
        "print(age)\n",
        "print(location)\n"
      ],
      "metadata": {
        "colab": {
          "base_uri": "https://localhost:8080/"
        },
        "id": "ZGqddMBB2Dq-",
        "outputId": "a014de80-fecd-4d1b-a7bd-39610361317b"
      },
      "execution_count": null,
      "outputs": [
        {
          "output_type": "stream",
          "name": "stdout",
          "text": [
            "guest\n",
            "22\n",
            "Cochin\n"
          ]
        }
      ]
    },
    {
      "cell_type": "code",
      "source": [
        "day = input('Enter day: ')\n",
        "days = ['monday','tuesday','wednesday','thursday','friday','saturday','sunday']\n",
        "if day not in days:\n",
        "  print('Invalid input !, Enter a day')\n",
        "else:\n",
        "  if day == 'saturday' or day == 'sunday':\n",
        "    print(\"I'ts a Holiday\")\n",
        "  else:\n",
        "    print(\"I'ts not a holiday\")"
      ],
      "metadata": {
        "colab": {
          "base_uri": "https://localhost:8080/"
        },
        "id": "cYnta-uF3XOV",
        "outputId": "a4b38e7f-1866-421d-cc1c-be5bcb96a6d5"
      },
      "execution_count": null,
      "outputs": [
        {
          "output_type": "stream",
          "name": "stdout",
          "text": [
            "Enter day: monday\n",
            "I'ts not a holiday\n"
          ]
        }
      ]
    },
    {
      "cell_type": "code",
      "source": [
        "print(\"Hello\",\"There\",sep='---')"
      ],
      "metadata": {
        "colab": {
          "base_uri": "https://localhost:8080/"
        },
        "id": "hbalzTGa4kIJ",
        "outputId": "01357921-baa8-49d9-c26a-5766e99db62b"
      },
      "execution_count": null,
      "outputs": [
        {
          "output_type": "stream",
          "name": "stdout",
          "text": [
            "Hello---There\n"
          ]
        }
      ]
    },
    {
      "cell_type": "code",
      "source": [
        "print('one')\n",
        "print('two',end=\"-\")\n",
        "print('three')"
      ],
      "metadata": {
        "colab": {
          "base_uri": "https://localhost:8080/"
        },
        "id": "SdOAKkPR40fc",
        "outputId": "a76ff87c-355a-45c0-c3e5-2a30be4addc2"
      },
      "execution_count": null,
      "outputs": [
        {
          "output_type": "stream",
          "name": "stdout",
          "text": [
            "one\n",
            "two-three\n"
          ]
        }
      ]
    },
    {
      "cell_type": "code",
      "source": [
        "a = 54\n",
        "print(type(a))\n",
        "b = str (a)\n",
        "print(b,type(b))"
      ],
      "metadata": {
        "colab": {
          "base_uri": "https://localhost:8080/"
        },
        "id": "UhgMylNO5jPH",
        "outputId": "a9abc141-3152-493f-a878-8f199bbf8ae4"
      },
      "execution_count": null,
      "outputs": [
        {
          "output_type": "stream",
          "name": "stdout",
          "text": [
            "<class 'int'>\n",
            "54 <class 'str'>\n"
          ]
        }
      ]
    },
    {
      "cell_type": "code",
      "source": [
        "integer_1 = 3\n",
        "float_1 = 2.7\n",
        "string_1 = \"24\"\n",
        "list_1 = [1,2,3,4]\n",
        "tuple_1 = (1,2,3,4,5)\n"
      ],
      "metadata": {
        "id": "c6kWm-L48FmG"
      },
      "execution_count": null,
      "outputs": []
    },
    {
      "cell_type": "code",
      "source": [
        "#int to string\n",
        "print(type(str(integer_1)))\n",
        "#int to float\n",
        "print(type(float(integer_1)))\n",
        "#string to int\n",
        "print(type(int(string_1)))\n",
        "#string to float\n",
        "print(type(float(string_1)))\n",
        "#float to string\n",
        "print(type(str(float_1)))\n",
        "#float to int\n",
        "print(type(int(float_1)))\n",
        "\n",
        "#list to tuple\n",
        "print(type(tuple(list_1)))\n",
        "#tuple to list\n",
        "print(type(list(tuple_1)))"
      ],
      "metadata": {
        "colab": {
          "base_uri": "https://localhost:8080/"
        },
        "id": "CNZFR7D1865e",
        "outputId": "9c907da5-7a67-4422-8013-34ea0ccfa466"
      },
      "execution_count": null,
      "outputs": [
        {
          "output_type": "stream",
          "name": "stdout",
          "text": [
            "<class 'str'>\n",
            "<class 'float'>\n",
            "<class 'int'>\n",
            "<class 'float'>\n",
            "<class 'str'>\n",
            "<class 'int'>\n",
            "<class 'tuple'>\n",
            "<class 'list'>\n"
          ]
        }
      ]
    },
    {
      "cell_type": "code",
      "source": [
        "import keyword\n",
        "print(keyword.kwlist)"
      ],
      "metadata": {
        "colab": {
          "base_uri": "https://localhost:8080/"
        },
        "id": "hLLdcsrCAZaG",
        "outputId": "c26521cc-6158-4827-c9d4-7ef952d6005c"
      },
      "execution_count": null,
      "outputs": [
        {
          "output_type": "stream",
          "name": "stdout",
          "text": [
            "['False', 'None', 'True', 'and', 'as', 'assert', 'async', 'await', 'break', 'class', 'continue', 'def', 'del', 'elif', 'else', 'except', 'finally', 'for', 'from', 'global', 'if', 'import', 'in', 'is', 'lambda', 'nonlocal', 'not', 'or', 'pass', 'raise', 'return', 'try', 'while', 'with', 'yield']\n"
          ]
        }
      ]
    },
    {
      "cell_type": "code",
      "source": [
        "domain = ['Data','Science']\n",
        "\" \".join(domain)"
      ],
      "metadata": {
        "colab": {
          "base_uri": "https://localhost:8080/",
          "height": 36
        },
        "id": "OOxuBTWlAGWv",
        "outputId": "127f510c-a74e-42fd-e477-c38dd33adc0f"
      },
      "execution_count": null,
      "outputs": [
        {
          "output_type": "execute_result",
          "data": {
            "text/plain": [
              "'Data Science'"
            ],
            "application/vnd.google.colaboratory.intrinsic+json": {
              "type": "string"
            }
          },
          "metadata": {},
          "execution_count": 125
        }
      ]
    },
    {
      "cell_type": "markdown",
      "source": [
        "List Operations"
      ],
      "metadata": {
        "id": "aol3lbV6AzED"
      }
    },
    {
      "cell_type": "code",
      "source": [
        "x = [1,2,3]\n",
        "x.append(4)\n",
        "print(x)\n",
        "\n",
        "x.extend([5,6,7])\n",
        "print(x)\n",
        "\n",
        "x.remove(2)\n",
        "print(x)\n",
        "\n",
        "x.insert(0, 10)\n",
        "print(x)\n",
        "\n",
        "x.reverse()\n",
        "print(x)\n",
        "\n",
        "x.sort()\n",
        "print(x)\n",
        "\n",
        "e = x.pop(0)\n",
        "print(e, x)\n",
        "\n",
        "x.clear()\n",
        "print(x)"
      ],
      "metadata": {
        "colab": {
          "base_uri": "https://localhost:8080/"
        },
        "id": "QBBXm7MYA1aA",
        "outputId": "54ffdb76-5c60-42f2-cd9c-5333966dc9b6"
      },
      "execution_count": null,
      "outputs": [
        {
          "output_type": "stream",
          "name": "stdout",
          "text": [
            "[1, 2, 3, 4]\n",
            "[1, 2, 3, 4, 5, 6, 7]\n",
            "[1, 3, 4, 5, 6, 7]\n",
            "[10, 1, 3, 4, 5, 6, 7]\n",
            "[7, 6, 5, 4, 3, 1, 10]\n",
            "[1, 3, 4, 5, 6, 7, 10]\n",
            "1 [3, 4, 5, 6, 7, 10]\n",
            "[]\n"
          ]
        }
      ]
    },
    {
      "cell_type": "markdown",
      "source": [
        "### Write a code to convert date format from dd/mm/yyyy to\n",
        " - mm-dd-yyyy\n",
        " - dd-mm-yyyy\n",
        " - yyyy|dd|mm"
      ],
      "metadata": {
        "id": "4gGGIy0lHE81"
      }
    },
    {
      "cell_type": "code",
      "source": [
        "date = input(\"Enter date (dd/mm/yyyy): \").split(\"/\")\n",
        "\n",
        "day = date[0]\n",
        "month = date[1]\n",
        "year = date[2]\n",
        "\n",
        "print(\"-\".join([month,day,year]))\n",
        "print(\"-\".join([day,month,year]))\n",
        "print(\"|\".join([year,day,month]))\n"
      ],
      "metadata": {
        "colab": {
          "base_uri": "https://localhost:8080/"
        },
        "id": "YWWu7sAOHGd4",
        "outputId": "a643982f-7761-4588-afbd-270bf097bfae"
      },
      "execution_count": null,
      "outputs": [
        {
          "output_type": "stream",
          "name": "stdout",
          "text": [
            "Enter date (dd/mm/yyyy): 16/05/2000\n",
            "05-16-2000\n",
            "16-05-2000\n",
            "2000|16|05\n"
          ]
        }
      ]
    }
  ]
}