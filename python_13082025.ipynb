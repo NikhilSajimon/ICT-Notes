{
  "nbformat": 4,
  "nbformat_minor": 0,
  "metadata": {
    "colab": {
      "provenance": [],
      "authorship_tag": "ABX9TyNlP7eitC9hs4YyG5/OANvr",
      "include_colab_link": true
    },
    "kernelspec": {
      "name": "python3",
      "display_name": "Python 3"
    },
    "language_info": {
      "name": "python"
    }
  },
  "cells": [
    {
      "cell_type": "markdown",
      "metadata": {
        "id": "view-in-github",
        "colab_type": "text"
      },
      "source": [
        "<a href=\"https://colab.research.google.com/github/NikhilSajimon/ICT-Notes/blob/main/python_13082025.ipynb\" target=\"_parent\"><img src=\"https://colab.research.google.com/assets/colab-badge.svg\" alt=\"Open In Colab\"/></a>"
      ]
    },
    {
      "cell_type": "markdown",
      "source": [
        "##***Math Notations, Statistics- Measures of central tendency, dispersion***"
      ],
      "metadata": {
        "id": "4nVkDdurHusj"
      }
    },
    {
      "cell_type": "code",
      "source": [
        "# the mean is the numerical average of a dataset, calculated by summing all the values and dividing by the total count of values."
      ],
      "metadata": {
        "id": "ZGJeq8t5IGJU"
      },
      "execution_count": null,
      "outputs": []
    },
    {
      "cell_type": "code",
      "source": [
        "def mean(lst):\n",
        "  return sum(lst) / len(lst)\n",
        "\n",
        "nums = [15, 8, 22, 10, 8, 12, 16, 19, 10, 5, 14, 25, 10, 18, 7, 11, 21, 13, 2, 14]\n",
        "print(mean(nums))"
      ],
      "metadata": {
        "colab": {
          "base_uri": "https://localhost:8080/"
        },
        "id": "2g77uEN8FfDi",
        "outputId": "0deac59d-c9ea-42ab-8850-e13c9fc8ffc6"
      },
      "execution_count": null,
      "outputs": [
        {
          "output_type": "stream",
          "name": "stdout",
          "text": [
            "13.0\n"
          ]
        }
      ]
    },
    {
      "cell_type": "code",
      "source": [
        "# the median is the middle value in a data set that has been ordered from least to greatest.\n",
        "# It serves as a measure of central tendency, with 50% of the data points falling below it and 50% above it.\n",
        "# To find the median, you must first sort the data.\n",
        "# If there's an odd number of values, the median is the single middle number.\n",
        "# If there's an even number of values, the median is the average of the two middle numbers.\n"
      ],
      "metadata": {
        "id": "7Ux5nYJAIaB3"
      },
      "execution_count": null,
      "outputs": []
    },
    {
      "cell_type": "code",
      "source": [
        "def median(lst):\n",
        "  lst = sorted(lst)\n",
        "  mid = len(lst) // 2\n",
        "  if len(lst) % 2 == 0:\n",
        "    return (lst[mid - 1] + lst[mid]) / 2\n",
        "  else:\n",
        "    return lst[mid]"
      ],
      "metadata": {
        "id": "Kgu7C1wMG8Vu"
      },
      "execution_count": null,
      "outputs": []
    },
    {
      "cell_type": "code",
      "source": [
        "median(nums)"
      ],
      "metadata": {
        "colab": {
          "base_uri": "https://localhost:8080/"
        },
        "id": "2gk45K54H4tW",
        "outputId": "e02d5d79-5868-46fd-8995-a444a3cd186b"
      },
      "execution_count": null,
      "outputs": [
        {
          "output_type": "execute_result",
          "data": {
            "text/plain": [
              "12.5"
            ]
          },
          "metadata": {},
          "execution_count": 38
        }
      ]
    },
    {
      "cell_type": "code",
      "source": [
        "print(nums)"
      ],
      "metadata": {
        "colab": {
          "base_uri": "https://localhost:8080/"
        },
        "id": "tv8Mima7JeAV",
        "outputId": "75d425b5-ca96-474a-9123-b1ec3f62634e"
      },
      "execution_count": null,
      "outputs": [
        {
          "output_type": "stream",
          "name": "stdout",
          "text": [
            "[2, 5, 7, 8, 8, 10, 10, 10, 11, 12, 13, 14, 14, 15, 16, 18, 19, 21, 22, 25]\n"
          ]
        }
      ]
    },
    {
      "cell_type": "code",
      "source": [
        "# the mode is the value that appears most frequently in a data set,\n",
        "# serving as a measure of central tendency alongside the mean and median"
      ],
      "metadata": {
        "id": "UaryvqW8ItxV"
      },
      "execution_count": null,
      "outputs": []
    },
    {
      "cell_type": "code",
      "source": [
        "def mode(lst):\n",
        "  elements = set(lst)\n",
        "  mode = 0\n",
        "  mode_count = 0\n",
        "  for num in elements:\n",
        "\n",
        "    counts = lst.count(num)\n",
        "    if counts > mode_count:\n",
        "      mode = num\n",
        "      mode_count = counts\n",
        "\n",
        "\n",
        "  return mode\n"
      ],
      "metadata": {
        "id": "ckocDH6gKRRC"
      },
      "execution_count": null,
      "outputs": []
    },
    {
      "cell_type": "code",
      "source": [
        "mode(nums)"
      ],
      "metadata": {
        "colab": {
          "base_uri": "https://localhost:8080/"
        },
        "id": "DxLCmO01LCmC",
        "outputId": "f88113fb-816e-463a-ce49-def37706123f"
      },
      "execution_count": null,
      "outputs": [
        {
          "output_type": "execute_result",
          "data": {
            "text/plain": [
              "10"
            ]
          },
          "metadata": {},
          "execution_count": 23
        }
      ]
    },
    {
      "cell_type": "markdown",
      "source": [],
      "metadata": {
        "id": "DL4YYBeOMT3g"
      }
    },
    {
      "cell_type": "code",
      "source": [
        "s = [1,2,3,4,5,6,7,8,8,4,5,6,6,9,5,2,1,3,4,5,6,7,8,8,5,1,2,4,5,8,8,8,9,1,2,4,2,1,1,2]\n",
        "mode(s)"
      ],
      "metadata": {
        "colab": {
          "base_uri": "https://localhost:8080/"
        },
        "id": "n8Wd8rF7MOYp",
        "outputId": "bef1d259-d69a-4de0-81de-45a092bc7508"
      },
      "execution_count": null,
      "outputs": [
        {
          "output_type": "execute_result",
          "data": {
            "text/plain": [
              "8"
            ]
          },
          "metadata": {},
          "execution_count": 24
        }
      ]
    },
    {
      "cell_type": "code",
      "source": [
        "set(s )"
      ],
      "metadata": {
        "colab": {
          "base_uri": "https://localhost:8080/"
        },
        "id": "GEFAACWhMvex",
        "outputId": "52597360-5b43-4193-cad5-2c9066996c3a"
      },
      "execution_count": null,
      "outputs": [
        {
          "output_type": "execute_result",
          "data": {
            "text/plain": [
              "{1, 2, 3, 4, 5, 6, 7, 8, 9}"
            ]
          },
          "metadata": {},
          "execution_count": 25
        }
      ]
    },
    {
      "cell_type": "code",
      "source": [
        "# In statistics, quartiles are three values (Q1, Q2, Q3) that divide a sorted dataset into four equal parts, each containing 25% of the data.\n",
        "# The First Quartile (Q1) is the 25th percentile, separating the lowest 25% of data.\n",
        "# The Second Quartile (Q2) is the median, representing the 50th percentile and dividing the data into two equal halves.\n",
        "# The Third Quartile (Q3) is the 75th percentile, marking the point below which 75% of the data falls."
      ],
      "metadata": {
        "id": "sVDN4oRoI4yJ"
      },
      "execution_count": null,
      "outputs": []
    },
    {
      "cell_type": "code",
      "source": [
        "rainfall = [85,60,72,55,105,315,380,290,190,130,95,70]\n",
        "\n",
        "\n",
        "def quartiles(sample):\n",
        "\n",
        "  def median(lst):\n",
        "    lst = sorted(lst)\n",
        "    mid = len(lst) // 2\n",
        "    if len(lst) % 2 == 0:\n",
        "      return (lst[mid - 1] + lst[mid]) / 2\n",
        "    else:\n",
        "      return lst[mid]\n",
        "\n",
        "  q2 = median(sample)\n",
        "  if len(sample) % 2 == 0:\n",
        "    mid = len(sample) // 2\n",
        "    q1 = median(sample[:mid])\n",
        "\n",
        "  print(sorted(rainfall))\n",
        "  print(q2)\n",
        "  print(q1)\n"
      ],
      "metadata": {
        "id": "7F7b00qCSZTQ"
      },
      "execution_count": null,
      "outputs": []
    },
    {
      "cell_type": "code",
      "source": [
        "quartiles(rainfall)"
      ],
      "metadata": {
        "colab": {
          "base_uri": "https://localhost:8080/"
        },
        "id": "vfRVfZgOYKwV",
        "outputId": "6303c6e6-f2ab-4e3c-8589-324fab8b28e8"
      },
      "execution_count": null,
      "outputs": [
        {
          "output_type": "stream",
          "name": "stdout",
          "text": [
            "[55, 60, 70, 72, 85, 95, 105, 130, 190, 290, 315, 380]\n",
            "100.0\n",
            "78.5\n"
          ]
        }
      ]
    },
    {
      "cell_type": "code",
      "source": [
        "nums = [15, 8, 22, 10, 12, 16, 19, 10, 5, 8, 14, 25, 10, 18, 7, 11, 21, 13, 2, 14]\n",
        "\n",
        "def quartiles(lst):\n",
        "  lst.sort()\n",
        "  print(lst)\n",
        "  fq = 0.25\n",
        "  sq = 0.5\n",
        "  tq = 0.75\n",
        "  lst_length = len(lst)\n",
        "\n",
        "  q1_ind = int(lst_length * fq)\n",
        "  q2_ind = int(lst_length * sq)\n",
        "  q3_ind = int(lst_length * tq)\n",
        "\n",
        "  return [lst[q1_ind], lst[q2_ind], lst[q3_ind]]\n",
        "\n",
        "quartiles(nums)"
      ],
      "metadata": {
        "colab": {
          "base_uri": "https://localhost:8080/"
        },
        "id": "G7mqD8ws_wqy",
        "outputId": "d086ec77-eeb8-4a7e-ba3f-775b0470c9a8"
      },
      "execution_count": null,
      "outputs": [
        {
          "output_type": "stream",
          "name": "stdout",
          "text": [
            "[2, 5, 7, 8, 8, 10, 10, 10, 11, 12, 13, 14, 14, 15, 16, 18, 19, 21, 22, 25]\n"
          ]
        },
        {
          "output_type": "execute_result",
          "data": {
            "text/plain": [
              "[10, 13, 18]"
            ]
          },
          "metadata": {},
          "execution_count": 81
        }
      ]
    },
    {
      "cell_type": "code",
      "source": [
        "lst = input().split()\n",
        "nums = [int(i) for i in ]"
      ],
      "metadata": {
        "id": "MKa_nkPjsb3C"
      },
      "execution_count": null,
      "outputs": []
    },
    {
      "cell_type": "code",
      "source": [
        "def mode(lst):\n",
        "  elements = set(lst)\n",
        "  mode_list = {}\n",
        "\n",
        "  for num in elements:\n",
        "    counts = lst.count(num)\n",
        "    mode_list[num] = counts\n",
        "\n",
        "\n",
        "  mod_count = list(mode_list.values())[1]\n",
        "\n",
        "  for num, count in mode_list.items():\n",
        "    if count > mod_count:\n",
        "      mod_count = count\n",
        "\n",
        "  multiple_mods = []\n",
        "\n",
        "  for num, count in mode_list.items():\n",
        "    if count == mod_count and count != 1:\n",
        "      multiple_mods.append(num)\n",
        "\n",
        "  if len(multiple_mods) == 1:\n",
        "    return multiple_mods[0]\n",
        "\n",
        "  if len(multiple_mods) == 0:\n",
        "    return str(None)\n",
        "\n",
        "  return multiple_mods\n",
        "\n",
        "nums = [15, 8, 22, 10, 8, 12, 16, 19, 10, 5, 8, 14, 25, 10, 18, 7, 11, 21, 13, 2, 14]\n",
        "mode(nums)"
      ],
      "metadata": {
        "colab": {
          "base_uri": "https://localhost:8080/"
        },
        "id": "smFRtpym0GM-",
        "outputId": "1f188430-fd7e-40ce-dd6d-e51823112dc9"
      },
      "execution_count": null,
      "outputs": [
        {
          "output_type": "execute_result",
          "data": {
            "text/plain": [
              "[8, 10]"
            ]
          },
          "metadata": {},
          "execution_count": 55
        }
      ]
    },
    {
      "cell_type": "code",
      "source": [
        "k = [1,2,3,4,5]\n",
        "mode(k)"
      ],
      "metadata": {
        "colab": {
          "base_uri": "https://localhost:8080/",
          "height": 35
        },
        "id": "4L3SCThI0HtF",
        "outputId": "77540a06-acf3-43aa-b40c-7518de7b2fb6"
      },
      "execution_count": null,
      "outputs": [
        {
          "output_type": "execute_result",
          "data": {
            "text/plain": [
              "'None'"
            ],
            "application/vnd.google.colaboratory.intrinsic+json": {
              "type": "string"
            }
          },
          "metadata": {},
          "execution_count": 56
        }
      ]
    }
  ]
}