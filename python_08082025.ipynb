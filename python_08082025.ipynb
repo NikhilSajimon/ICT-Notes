{
  "nbformat": 4,
  "nbformat_minor": 0,
  "metadata": {
    "colab": {
      "provenance": [],
      "authorship_tag": "ABX9TyO5ZsGrLZ+qIuwoOQ6lUCx4",
      "include_colab_link": true
    },
    "kernelspec": {
      "name": "python3",
      "display_name": "Python 3"
    },
    "language_info": {
      "name": "python"
    }
  },
  "cells": [
    {
      "cell_type": "markdown",
      "metadata": {
        "id": "view-in-github",
        "colab_type": "text"
      },
      "source": [
        "<a href=\"https://colab.research.google.com/github/NikhilSajimon/ICT-Notes/blob/main/python_08082025.ipynb\" target=\"_parent\"><img src=\"https://colab.research.google.com/assets/colab-badge.svg\" alt=\"Open In Colab\"/></a>"
      ]
    },
    {
      "cell_type": "markdown",
      "source": [
        "\n",
        "functions"
      ],
      "metadata": {
        "id": "-B3K1x_DtWwO"
      }
    },
    {
      "cell_type": "markdown",
      "source": [],
      "metadata": {
        "id": "QxKzPCDrtWpA"
      }
    },
    {
      "cell_type": "code",
      "execution_count": null,
      "metadata": {
        "colab": {
          "base_uri": "https://localhost:8080/"
        },
        "id": "7mdvLd0KsHMb",
        "outputId": "5e047055-3838-4ee2-be72-28626cc4fe11"
      },
      "outputs": [
        {
          "output_type": "stream",
          "name": "stdout",
          "text": [
            "Hello, welcome to kerala\n",
            "Hello, welcome to kerala\n",
            "Hello, welcome to kerala\n",
            "Hello, welcome to kerala\n"
          ]
        }
      ],
      "source": [
        "def greet():\n",
        "  print('Hello, welcome to kerala')\n",
        "\n",
        "\n",
        "greet()\n",
        "greet()\n",
        "greet()\n",
        "greet()"
      ]
    },
    {
      "cell_type": "code",
      "source": [
        "def greet(name):\n",
        "  print(f'Hello {name}, Welcome to the program')"
      ],
      "metadata": {
        "id": "AIUc1V7muoqe"
      },
      "execution_count": null,
      "outputs": []
    },
    {
      "cell_type": "code",
      "source": [
        "greet('Sreesanth')\n",
        "greet('Saketh')\n",
        "greet('Nikhil')"
      ],
      "metadata": {
        "colab": {
          "base_uri": "https://localhost:8080/"
        },
        "id": "BHaw3VZuvhJ0",
        "outputId": "d231bae1-dc3b-4df8-8fc7-228e4d012b35"
      },
      "execution_count": null,
      "outputs": [
        {
          "output_type": "stream",
          "name": "stdout",
          "text": [
            "Hello Sreesanth, Welcome to the program\n",
            "Hello Saketh, Welcome to the program\n",
            "Hello Nikhil, Welcome to the program\n"
          ]
        }
      ]
    },
    {
      "cell_type": "code",
      "source": [
        "def greet_2(name, time):\n",
        "  print(f'Hello {name}, Welcome to the program')\n",
        "  print(f'Your session will start at {time}')\n",
        "\n",
        "\n",
        "greet_2('Sreesanth', '7:00 hrs')\n",
        "greet_2('Saketh','18:00 hrs')\n",
        "greet_2('Nikhil','15:00 hrs')"
      ],
      "metadata": {
        "colab": {
          "base_uri": "https://localhost:8080/"
        },
        "id": "X41Lne3QwqIu",
        "outputId": "bf8b2c3c-d0e2-482f-99a7-866f89f2467b"
      },
      "execution_count": null,
      "outputs": [
        {
          "output_type": "stream",
          "name": "stdout",
          "text": [
            "Hello Sreesanth, Welcome to the program\n",
            "Your session will start at 7:00 hrs\n",
            "Hello Saketh, Welcome to the program\n",
            "Your session will start at 18:00 hrs\n",
            "Hello Nikhil, Welcome to the program\n",
            "Your session will start at 15:00 hrs\n"
          ]
        }
      ]
    },
    {
      "cell_type": "code",
      "source": [
        "def greet_3(name, time = '10:00 hrs'):\n",
        "  print(f'Hello {name}, Welcome to the program')\n",
        "  print(f'Your session will start at {time}')\n",
        "\n",
        "\n",
        "greet_3('Sreesanth', '00:00 hrs')\n",
        "greet_3('Saketh','18:00 hrs')\n",
        "greet_3('Nikhil','15:00 hrs')\n",
        "greet_3('Aswathi')"
      ],
      "metadata": {
        "colab": {
          "base_uri": "https://localhost:8080/"
        },
        "id": "xCZyATnpxglY",
        "outputId": "a50ace55-8b62-4da3-c978-e9092a503f5e"
      },
      "execution_count": null,
      "outputs": [
        {
          "output_type": "stream",
          "name": "stdout",
          "text": [
            "Hello Sreesanth, Welcome to the program\n",
            "Your session will start at 00:00 hrs\n",
            "Hello Saketh, Welcome to the program\n",
            "Your session will start at 18:00 hrs\n",
            "Hello Nikhil, Welcome to the program\n",
            "Your session will start at 15:00 hrs\n",
            "Hello Aswathi, Welcome to the program\n",
            "Your session will start at 10:00 hrs\n"
          ]
        }
      ]
    },
    {
      "cell_type": "code",
      "source": [
        "def product(num1, num2):\n",
        "  print(f'The product of {num1} and {num2} is {num1 * num2}.')\n",
        "\n",
        "\n",
        "\n",
        "number_1 = int(input(\"Enter first number: \"))\n",
        "number_2 = int(input(\"Enter second number: \"))\n",
        "\n",
        "product(number_1, number_2)"
      ],
      "metadata": {
        "colab": {
          "base_uri": "https://localhost:8080/"
        },
        "id": "IiNgZn-IxgXk",
        "outputId": "d207528f-4dac-4671-9188-279fdfe307de"
      },
      "execution_count": null,
      "outputs": [
        {
          "output_type": "stream",
          "name": "stdout",
          "text": [
            "Enter first number: 465465465\n",
            "Enter second number: 64654654654\n",
            "The product of 465465465 and 64654654654 is 30094508892938524110.\n"
          ]
        }
      ]
    },
    {
      "cell_type": "code",
      "source": [
        "def amount_payable(price):\n",
        "  if price >= 1000:\n",
        "    total = price + (0.2 * price)\n",
        "  elif 500 <= price < 1000:\n",
        "    total = price + (0.15 * price)\n",
        "  else:\n",
        "    total = price + (0.1 * price)\n",
        "  print(f'Total amount payable is {total} Rs.')\n"
      ],
      "metadata": {
        "id": "E6PzhUvZy05z"
      },
      "execution_count": null,
      "outputs": []
    },
    {
      "cell_type": "code",
      "source": [
        "amount_payable(100)\n",
        "amount_payable(250)\n",
        "amount_payable(500)\n",
        "amount_payable(700)\n",
        "amount_payable(1000)\n",
        "amount_payable(1200)"
      ],
      "metadata": {
        "colab": {
          "base_uri": "https://localhost:8080/"
        },
        "id": "yF_vGpM24dTy",
        "outputId": "df024a70-c962-4431-d06d-f00bf8ec36d0"
      },
      "execution_count": null,
      "outputs": [
        {
          "output_type": "stream",
          "name": "stdout",
          "text": [
            "Total amount payable is 110.0 Rs.\n",
            "Total amount payable is 275.0 Rs.\n",
            "Total amount payable is 575.0 Rs.\n",
            "Total amount payable is 805.0 Rs.\n",
            "Total amount payable is 1200.0 Rs.\n",
            "Total amount payable is 1440.0 Rs.\n"
          ]
        }
      ]
    },
    {
      "cell_type": "code",
      "source": [
        "def even_and_average(numbers_list):\n",
        "  even_list = [num for num in numbers_list if num % 2 == 0]\n",
        "  average = sum(even_list)/len(even_list)\n",
        "  print(even_list)\n",
        "  print(average)\n"
      ],
      "metadata": {
        "id": "y6QApUyC8B0o"
      },
      "execution_count": null,
      "outputs": []
    },
    {
      "cell_type": "code",
      "source": [
        "numbers = [1,2,5,7,8,12,14,13,4,20]\n",
        "even_and_average(numbers)"
      ],
      "metadata": {
        "colab": {
          "base_uri": "https://localhost:8080/"
        },
        "id": "chbTY9u28tre",
        "outputId": "3c0b889f-c4d0-4373-bb0f-d1af71272697"
      },
      "execution_count": null,
      "outputs": [
        {
          "output_type": "stream",
          "name": "stdout",
          "text": [
            "[2, 8, 12, 14, 4, 20]\n",
            "10.0\n"
          ]
        }
      ]
    },
    {
      "cell_type": "code",
      "source": [
        "def odd_and_average(numbers_list):\n",
        "  odd_list = []\n",
        "  for num in numbers_list:\n",
        "    if num % 2 == 1:\n",
        "      odd_list.append(num)\n",
        "  average = sum(odd_list)/len(odd_list)\n",
        "  print(odd_list)\n",
        "  print(average)\n"
      ],
      "metadata": {
        "id": "f7vXE9uG9EOl"
      },
      "execution_count": null,
      "outputs": []
    },
    {
      "cell_type": "code",
      "source": [
        "numbers_2 = [1,2,3,4,5,6,7,8,9,10,11,12,13,14,15]\n",
        "odd_and_average(numbers_2)"
      ],
      "metadata": {
        "colab": {
          "base_uri": "https://localhost:8080/"
        },
        "id": "E8v8GxXt9aNg",
        "outputId": "a690ce52-7f29-4662-b1ec-c1c65b5a144e"
      },
      "execution_count": null,
      "outputs": [
        {
          "output_type": "stream",
          "name": "stdout",
          "text": [
            "[1, 3, 5, 7, 9, 11, 13, 15]\n",
            "8.0\n"
          ]
        }
      ]
    },
    {
      "cell_type": "markdown",
      "source": [
        "*args - tuple\\\n",
        "***args - dict"
      ],
      "metadata": {
        "id": "IpSBFqga_8gp"
      }
    },
    {
      "cell_type": "code",
      "source": [
        "def sum_numbers(*args):\n",
        "  print(type(args))\n",
        "  total = 0\n",
        "  for i in args:\n",
        "    total += i\n",
        "  print(total)\n",
        "\n",
        "\n",
        "sum_numbers(1,2,3,4,5)"
      ],
      "metadata": {
        "colab": {
          "base_uri": "https://localhost:8080/"
        },
        "id": "b0_GaHBn_hlo",
        "outputId": "3931f262-6399-4e34-9f66-96f9ca1cb880"
      },
      "execution_count": null,
      "outputs": [
        {
          "output_type": "stream",
          "name": "stdout",
          "text": [
            "<class 'tuple'>\n",
            "15\n"
          ]
        }
      ]
    },
    {
      "cell_type": "code",
      "source": [
        "def print_info(**args):\n",
        "  for item, val in args.items():\n",
        "    print(f'{item} is {val}')\n",
        "\n",
        "\n",
        "\n",
        "print_info(name = 'Alan', place = 'tvm', score = 6)\n",
        "print_info(name = 'Sreesanth', place = 'pathanamthitta', batch = 'DSA')\n",
        "print_info(name = 'Sreesanth', age = '20', place = 'pta disc')"
      ],
      "metadata": {
        "colab": {
          "base_uri": "https://localhost:8080/"
        },
        "id": "3x3Sm2OABPe8",
        "outputId": "5085d2d4-d605-46b6-9d28-7f7538320233"
      },
      "execution_count": null,
      "outputs": [
        {
          "output_type": "stream",
          "name": "stdout",
          "text": [
            "name is Alan\n",
            "place is tvm\n",
            "score is 6\n",
            "name is Sreesanth\n",
            "place is pathanamthitta\n",
            "batch is DSA\n",
            "name is Sreesanth\n",
            "age is 20\n",
            "place is pta\n"
          ]
        }
      ]
    },
    {
      "cell_type": "markdown",
      "source": [
        "lambda function\n"
      ],
      "metadata": {
        "id": "soCqACLbLY5q"
      }
    },
    {
      "cell_type": "code",
      "source": [
        "square = lambda x: x*x\n",
        "square(5)"
      ],
      "metadata": {
        "colab": {
          "base_uri": "https://localhost:8080/"
        },
        "id": "GxxdZrQbK6M1",
        "outputId": "42249485-4e48-458a-fc6e-79e8c77b802a"
      },
      "execution_count": null,
      "outputs": [
        {
          "output_type": "execute_result",
          "data": {
            "text/plain": [
              "25"
            ]
          },
          "metadata": {},
          "execution_count": 50
        }
      ]
    },
    {
      "cell_type": "code",
      "source": [
        "add = lambda x,y : x + y\n",
        "add(1,2)"
      ],
      "metadata": {
        "colab": {
          "base_uri": "https://localhost:8080/"
        },
        "id": "_TvRzJNaMDqH",
        "outputId": "f8191392-09c4-47ae-9531-f6b7cf2fb19b"
      },
      "execution_count": null,
      "outputs": [
        {
          "output_type": "execute_result",
          "data": {
            "text/plain": [
              "3"
            ]
          },
          "metadata": {},
          "execution_count": 51
        }
      ]
    },
    {
      "cell_type": "code",
      "source": [
        "def total_marks(marks):\n",
        "  return (sum(marks))\n",
        "\n",
        "\n",
        "final_score = total_marks([10,20,30,40,50])\n",
        "if final_score >= 90:\n",
        "  print('Grade A')\n",
        "elif final_score >= 80:\n",
        "  print('Grade B')\n",
        "elif final_score >= 70:\n",
        "  print('Grade C')\n",
        "elif final_score >= 60:\n",
        "  print('Grade D')"
      ],
      "metadata": {
        "colab": {
          "base_uri": "https://localhost:8080/"
        },
        "id": "uGpcJ37sNVim",
        "outputId": "661457f3-361d-4856-a569-9f486f64c436"
      },
      "execution_count": null,
      "outputs": [
        {
          "output_type": "stream",
          "name": "stdout",
          "text": [
            "Grade A\n"
          ]
        }
      ]
    },
    {
      "cell_type": "markdown",
      "source": [
        "**class**\\\n",
        "**object / instance**\\\n",
        "**inheritance**\\\n",
        "**polymorphism**\\\n",
        "**encapsulation**\\\n",
        "**abstraction**"
      ],
      "metadata": {
        "id": "646wCofgP2zz"
      }
    },
    {
      "cell_type": "code",
      "source": [
        "class Animal:\n",
        "  animal_type = \"Dog\"\n",
        "  num_legs = 4\n",
        "  mammal = 'Yes'\n",
        "\n",
        "  def Sound(self):\n",
        "    print('Animal barks')\n"
      ],
      "metadata": {
        "id": "PxpY_IIFP088"
      },
      "execution_count": null,
      "outputs": []
    },
    {
      "cell_type": "code",
      "source": [
        "obj1 = Animal()\n",
        "obj1.Sound()\n",
        "\n",
        "obj2 = Animal()\n",
        "obj2.Sound()"
      ],
      "metadata": {
        "colab": {
          "base_uri": "https://localhost:8080/"
        },
        "id": "s5D0tUPVSj5E",
        "outputId": "6dd78bf6-2dca-41bd-a449-1e13e0c1629c"
      },
      "execution_count": null,
      "outputs": [
        {
          "output_type": "stream",
          "name": "stdout",
          "text": [
            "Animal barks\n",
            "Animal barks\n"
          ]
        }
      ]
    },
    {
      "cell_type": "code",
      "source": [
        "class Person:\n",
        "  place = 'tvm'\n",
        "\n",
        "  def __init__(self, name, age):\n",
        "    self.name = name\n",
        "    self.age =age\n",
        "\n",
        "  def greet(self):\n",
        "    return f'Hi, myself {self.name} and my age is {self.age} and I am from {self.place}'\n"
      ],
      "metadata": {
        "id": "cdTQRAryUCFt"
      },
      "execution_count": null,
      "outputs": []
    },
    {
      "cell_type": "code",
      "source": [
        "person_1 = Person('Sreesanth', 20)\n",
        "person_1.greet()\n",
        "\n",
        "person_2 = Person('Saketh', 22)\n",
        "person_2.greet()"
      ],
      "metadata": {
        "colab": {
          "base_uri": "https://localhost:8080/",
          "height": 35
        },
        "id": "78kUsmjeUqRV",
        "outputId": "d1556821-4655-4d8f-b372-96d6dc9dba8f"
      },
      "execution_count": null,
      "outputs": [
        {
          "output_type": "execute_result",
          "data": {
            "text/plain": [
              "'Hi, myself Saketh and my age is 22 and I am from tvm'"
            ],
            "application/vnd.google.colaboratory.intrinsic+json": {
              "type": "string"
            }
          },
          "metadata": {},
          "execution_count": 75
        }
      ]
    },
    {
      "cell_type": "markdown",
      "source": [
        "**derived class**"
      ],
      "metadata": {
        "id": "YAYTutS-ZAKo"
      }
    },
    {
      "cell_type": "code",
      "source": [
        "class Employee:\n",
        "  def __init__(self, name, emp_id, salary):\n",
        "    self.name = name\n",
        "    self.emp_id = emp_id\n",
        "    self.salary = salary\n",
        "\n",
        "  def display_info(self):\n",
        "    print(f'Name: {self.name}')\n",
        "    print(f'Employee ID: {self.emp_id}')\n",
        "    print(f'Salary: {self.salary}')"
      ],
      "metadata": {
        "id": "BljxwrObY7Yg"
      },
      "execution_count": null,
      "outputs": []
    },
    {
      "cell_type": "code",
      "source": [
        "emp_1 = Employee('Sreesanth', 112987, 35000)\n",
        "emp_1.display_info()\n",
        "# emp_1.display_manager_info()"
      ],
      "metadata": {
        "colab": {
          "base_uri": "https://localhost:8080/",
          "height": 228
        },
        "id": "Sarw5SOZaW2m",
        "outputId": "9ce9a791-05ca-4b73-c46b-26564c14ad50"
      },
      "execution_count": null,
      "outputs": [
        {
          "output_type": "stream",
          "name": "stdout",
          "text": [
            "Name: Sreesanth\n",
            "Employee ID: 112987\n",
            "Salary: 35000\n"
          ]
        },
        {
          "output_type": "error",
          "ename": "AttributeError",
          "evalue": "'Employee' object has no attribute 'display_manager_info'",
          "traceback": [
            "\u001b[0;31m---------------------------------------------------------------------------\u001b[0m",
            "\u001b[0;31mAttributeError\u001b[0m                            Traceback (most recent call last)",
            "\u001b[0;32m/tmp/ipython-input-1444840643.py\u001b[0m in \u001b[0;36m<cell line: 0>\u001b[0;34m()\u001b[0m\n\u001b[1;32m      1\u001b[0m \u001b[0memp_1\u001b[0m \u001b[0;34m=\u001b[0m \u001b[0mEmployee\u001b[0m\u001b[0;34m(\u001b[0m\u001b[0;34m'Sreesanth'\u001b[0m\u001b[0;34m,\u001b[0m \u001b[0;36m112987\u001b[0m\u001b[0;34m,\u001b[0m \u001b[0;36m35000\u001b[0m\u001b[0;34m)\u001b[0m\u001b[0;34m\u001b[0m\u001b[0;34m\u001b[0m\u001b[0m\n\u001b[1;32m      2\u001b[0m \u001b[0memp_1\u001b[0m\u001b[0;34m.\u001b[0m\u001b[0mdisplay_info\u001b[0m\u001b[0;34m(\u001b[0m\u001b[0;34m)\u001b[0m\u001b[0;34m\u001b[0m\u001b[0;34m\u001b[0m\u001b[0m\n\u001b[0;32m----> 3\u001b[0;31m \u001b[0memp_1\u001b[0m\u001b[0;34m.\u001b[0m\u001b[0mdisplay_manager_info\u001b[0m\u001b[0;34m(\u001b[0m\u001b[0;34m)\u001b[0m\u001b[0;34m\u001b[0m\u001b[0;34m\u001b[0m\u001b[0m\n\u001b[0m",
            "\u001b[0;31mAttributeError\u001b[0m: 'Employee' object has no attribute 'display_manager_info'"
          ]
        }
      ]
    },
    {
      "cell_type": "code",
      "source": [
        "class Manager(Employee):\n",
        "  def __init__(self, name, emp_id, salary, dept, teamSize):\n",
        "    super().__init__(name, emp_id, salary)\n",
        "    self.dept = dept\n",
        "    self.teamSize = teamSize\n",
        "\n",
        "  def display_manager_info(self):\n",
        "    self.display_info()\n",
        "    print(f'Department: {self.dept}')\n",
        "    print(f'Team Size: {self.teamSize}')"
      ],
      "metadata": {
        "id": "D92H9P5ea4in"
      },
      "execution_count": null,
      "outputs": []
    },
    {
      "cell_type": "code",
      "source": [
        "man_1 = Manager('Saketh', 135449, 87000, 'IT', 8)\n",
        "man_1.display_manager_info()\n",
        "man_1.display_info()"
      ],
      "metadata": {
        "colab": {
          "base_uri": "https://localhost:8080/"
        },
        "id": "9AKuPXYFcSR4",
        "outputId": "262dc389-9de0-42cc-af48-2fd192e239f6"
      },
      "execution_count": null,
      "outputs": [
        {
          "output_type": "stream",
          "name": "stdout",
          "text": [
            "Name: Saketh\n",
            "Employee ID: 135449\n",
            "Salary: 87000\n",
            "Department: IT\n",
            "Team Size: 8\n",
            "Name: Saketh\n",
            "Employee ID: 135449\n",
            "Salary: 87000\n"
          ]
        }
      ]
    },
    {
      "cell_type": "code",
      "source": [
        "class TeamLead(Manager):\n",
        "  def __init__(self, name, emp_id, salary, dept, teamSize, project_name):\n",
        "    super().__init__(name, emp_id, salary, dept, teamSize)\n",
        "    self.project_name = project_name\n",
        "\n",
        "  def display_tl_info(self):\n",
        "    self.display_manager_info()\n",
        "    print(f'Project name: {self.project_name}')"
      ],
      "metadata": {
        "id": "6f0q1LA1dhQK"
      },
      "execution_count": null,
      "outputs": []
    },
    {
      "cell_type": "code",
      "source": [
        "tl1 = TeamLead('Sreesanth', 1245666, 75000, 'IT', 8, 'payment interface')\n",
        "tl1.display_tl_info()"
      ],
      "metadata": {
        "colab": {
          "base_uri": "https://localhost:8080/"
        },
        "id": "HX2BFpjCft1Z",
        "outputId": "2b1ea4e7-6691-4ae0-bea6-fa5b9608d600"
      },
      "execution_count": null,
      "outputs": [
        {
          "output_type": "stream",
          "name": "stdout",
          "text": [
            "Name: Sreesanth\n",
            "Employee ID: 1245666\n",
            "Salary: 75000\n",
            "Department: IT\n",
            "Team Size: 8\n",
            "Project name: payment interface\n"
          ]
        }
      ]
    }
  ]
}